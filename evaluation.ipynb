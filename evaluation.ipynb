{
 "cells": [
  {
   "cell_type": "code",
   "execution_count": 2,
   "id": "847fdba2-32dd-482d-a9de-e83607fe789d",
   "metadata": {
    "tags": []
   },
   "outputs": [],
   "source": [
    "# imports\n",
    "import pandas as pd\n",
    "import numpy as np\n",
    "import wrangle as wr"
   ]
  },
  {
   "cell_type": "markdown",
   "id": "dda1d595-e839-4b81-ad92-853c825ab70a",
   "metadata": {},
   "source": [
    "# 1. Load your zillow dataset."
   ]
  },
  {
   "cell_type": "code",
   "execution_count": 3,
   "id": "38030ecf-0c75-4401-814c-e3fc62fdf6a9",
   "metadata": {
    "tags": []
   },
   "outputs": [
    {
     "data": {
      "text/html": [
       "<div>\n",
       "<style scoped>\n",
       "    .dataframe tbody tr th:only-of-type {\n",
       "        vertical-align: middle;\n",
       "    }\n",
       "\n",
       "    .dataframe tbody tr th {\n",
       "        vertical-align: top;\n",
       "    }\n",
       "\n",
       "    .dataframe thead th {\n",
       "        text-align: right;\n",
       "    }\n",
       "</style>\n",
       "<table border=\"1\" class=\"dataframe\">\n",
       "  <thead>\n",
       "    <tr style=\"text-align: right;\">\n",
       "      <th></th>\n",
       "      <th>bedroomcnt</th>\n",
       "      <th>bathroomcnt</th>\n",
       "      <th>calculatedfinishedsquarefeet</th>\n",
       "      <th>taxvaluedollarcnt</th>\n",
       "      <th>yearbuilt</th>\n",
       "      <th>taxamount</th>\n",
       "      <th>fips</th>\n",
       "    </tr>\n",
       "  </thead>\n",
       "  <tbody>\n",
       "    <tr>\n",
       "      <th>0</th>\n",
       "      <td>0.0</td>\n",
       "      <td>0.0</td>\n",
       "      <td>NaN</td>\n",
       "      <td>27516.0</td>\n",
       "      <td>NaN</td>\n",
       "      <td>NaN</td>\n",
       "      <td>6037.0</td>\n",
       "    </tr>\n",
       "    <tr>\n",
       "      <th>1</th>\n",
       "      <td>0.0</td>\n",
       "      <td>0.0</td>\n",
       "      <td>NaN</td>\n",
       "      <td>10.0</td>\n",
       "      <td>NaN</td>\n",
       "      <td>NaN</td>\n",
       "      <td>6037.0</td>\n",
       "    </tr>\n",
       "    <tr>\n",
       "      <th>2</th>\n",
       "      <td>0.0</td>\n",
       "      <td>0.0</td>\n",
       "      <td>NaN</td>\n",
       "      <td>10.0</td>\n",
       "      <td>NaN</td>\n",
       "      <td>NaN</td>\n",
       "      <td>6037.0</td>\n",
       "    </tr>\n",
       "    <tr>\n",
       "      <th>3</th>\n",
       "      <td>0.0</td>\n",
       "      <td>0.0</td>\n",
       "      <td>NaN</td>\n",
       "      <td>2108.0</td>\n",
       "      <td>NaN</td>\n",
       "      <td>174.21</td>\n",
       "      <td>6037.0</td>\n",
       "    </tr>\n",
       "    <tr>\n",
       "      <th>4</th>\n",
       "      <td>4.0</td>\n",
       "      <td>2.0</td>\n",
       "      <td>3633.0</td>\n",
       "      <td>296425.0</td>\n",
       "      <td>2005.0</td>\n",
       "      <td>6941.39</td>\n",
       "      <td>6037.0</td>\n",
       "    </tr>\n",
       "  </tbody>\n",
       "</table>\n",
       "</div>"
      ],
      "text/plain": [
       "   bedroomcnt  bathroomcnt  calculatedfinishedsquarefeet  taxvaluedollarcnt  \\\n",
       "0         0.0          0.0                           NaN            27516.0   \n",
       "1         0.0          0.0                           NaN               10.0   \n",
       "2         0.0          0.0                           NaN               10.0   \n",
       "3         0.0          0.0                           NaN             2108.0   \n",
       "4         4.0          2.0                        3633.0           296425.0   \n",
       "\n",
       "   yearbuilt  taxamount    fips  \n",
       "0        NaN        NaN  6037.0  \n",
       "1        NaN        NaN  6037.0  \n",
       "2        NaN        NaN  6037.0  \n",
       "3        NaN     174.21  6037.0  \n",
       "4     2005.0    6941.39  6037.0  "
      ]
     },
     "execution_count": 3,
     "metadata": {},
     "output_type": "execute_result"
    }
   ],
   "source": [
    "# acquire the zillow data\n",
    "df = wr.create_zillow_data()\n",
    "df.head()"
   ]
  },
  {
   "cell_type": "code",
   "execution_count": 4,
   "id": "921ae36f-25fe-4b0d-88d9-68511ff546bb",
   "metadata": {
    "tags": []
   },
   "outputs": [
    {
     "data": {
      "text/html": [
       "<div>\n",
       "<style scoped>\n",
       "    .dataframe tbody tr th:only-of-type {\n",
       "        vertical-align: middle;\n",
       "    }\n",
       "\n",
       "    .dataframe tbody tr th {\n",
       "        vertical-align: top;\n",
       "    }\n",
       "\n",
       "    .dataframe thead th {\n",
       "        text-align: right;\n",
       "    }\n",
       "</style>\n",
       "<table border=\"1\" class=\"dataframe\">\n",
       "  <thead>\n",
       "    <tr style=\"text-align: right;\">\n",
       "      <th></th>\n",
       "      <th>bedrooms</th>\n",
       "      <th>bathrooms</th>\n",
       "      <th>area</th>\n",
       "      <th>taxvalue</th>\n",
       "      <th>yearbuilt</th>\n",
       "      <th>taxamount</th>\n",
       "      <th>county</th>\n",
       "    </tr>\n",
       "  </thead>\n",
       "  <tbody>\n",
       "    <tr>\n",
       "      <th>4</th>\n",
       "      <td>4</td>\n",
       "      <td>2.0</td>\n",
       "      <td>3633</td>\n",
       "      <td>296425</td>\n",
       "      <td>2005</td>\n",
       "      <td>6941.39</td>\n",
       "      <td>LA</td>\n",
       "    </tr>\n",
       "    <tr>\n",
       "      <th>6</th>\n",
       "      <td>3</td>\n",
       "      <td>4.0</td>\n",
       "      <td>1620</td>\n",
       "      <td>847770</td>\n",
       "      <td>2011</td>\n",
       "      <td>10244.94</td>\n",
       "      <td>LA</td>\n",
       "    </tr>\n",
       "    <tr>\n",
       "      <th>7</th>\n",
       "      <td>3</td>\n",
       "      <td>2.0</td>\n",
       "      <td>2077</td>\n",
       "      <td>646760</td>\n",
       "      <td>1926</td>\n",
       "      <td>7924.68</td>\n",
       "      <td>LA</td>\n",
       "    </tr>\n",
       "    <tr>\n",
       "      <th>11</th>\n",
       "      <td>0</td>\n",
       "      <td>0.0</td>\n",
       "      <td>1200</td>\n",
       "      <td>5328</td>\n",
       "      <td>1972</td>\n",
       "      <td>91.60</td>\n",
       "      <td>LA</td>\n",
       "    </tr>\n",
       "    <tr>\n",
       "      <th>14</th>\n",
       "      <td>0</td>\n",
       "      <td>0.0</td>\n",
       "      <td>171</td>\n",
       "      <td>6920</td>\n",
       "      <td>1973</td>\n",
       "      <td>255.17</td>\n",
       "      <td>LA</td>\n",
       "    </tr>\n",
       "  </tbody>\n",
       "</table>\n",
       "</div>"
      ],
      "text/plain": [
       "    bedrooms  bathrooms  area  taxvalue  yearbuilt  taxamount county\n",
       "4          4        2.0  3633    296425       2005    6941.39     LA\n",
       "6          3        4.0  1620    847770       2011   10244.94     LA\n",
       "7          3        2.0  2077    646760       1926    7924.68     LA\n",
       "11         0        0.0  1200      5328       1972      91.60     LA\n",
       "14         0        0.0   171      6920       1973     255.17     LA"
      ]
     },
     "execution_count": 4,
     "metadata": {},
     "output_type": "execute_result"
    }
   ],
   "source": [
    "# prep the data:\n",
    "df = wr.prep_zillow(df)\n",
    "df.head()"
   ]
  },
  {
   "cell_type": "code",
   "execution_count": 5,
   "id": "b1b462f4-f426-4bce-9e0d-398ee30c1cb4",
   "metadata": {
    "tags": []
   },
   "outputs": [],
   "source": [
    "# remove outliers\n",
    "def remove_outliers(df, k, col_list):\n",
    "    ''' remove outliers from a list of columns in a dataframe \n",
    "        and return that dataframe\n",
    "    '''\n",
    "    \n",
    "    for col in col_list:\n",
    "        \n",
    "        # For each column, it calculates the first quartile (q1) and \n",
    "        #third quartile (q3) using the .quantile() method, where q1 \n",
    "        #corresponds to the 25th percentile and q3 corresponds to the 75th percentile.\n",
    "        q1, q3 = df[col].quantile([.25, .75])  # get quartiles\n",
    "        \n",
    "        iqr = q3 - q1   # calculate interquartile range\n",
    "        \n",
    "        upper_bound = q3 + k * iqr   # get upper bound\n",
    "        lower_bound = q1 - k * iqr   # get lower bound\n",
    "\n",
    "        # return dataframe without outliers\n",
    "        \n",
    "        df = df[(df[col] > lower_bound) & (df[col] < upper_bound)]\n",
    "        \n",
    "    return df"
   ]
  },
  {
   "cell_type": "code",
   "execution_count": 6,
   "id": "cc8a52d1-ce6c-4b25-807e-4f6a4361dfbd",
   "metadata": {
    "tags": []
   },
   "outputs": [],
   "source": [
    "column_list = ['bedrooms','bathrooms','area','yearbuilt','taxamount']"
   ]
  },
  {
   "cell_type": "code",
   "execution_count": 8,
   "id": "8695ffe8-0f52-4119-b519-db01c0580b3a",
   "metadata": {
    "tags": []
   },
   "outputs": [],
   "source": [
    "df = remove_outliers(df, 1.4, column_list)"
   ]
  },
  {
   "cell_type": "code",
   "execution_count": 9,
   "id": "3b3c3ad0-746d-478d-8bc5-cbb3b8ba8f81",
   "metadata": {
    "tags": []
   },
   "outputs": [
    {
     "data": {
      "text/html": [
       "<div>\n",
       "<style scoped>\n",
       "    .dataframe tbody tr th:only-of-type {\n",
       "        vertical-align: middle;\n",
       "    }\n",
       "\n",
       "    .dataframe tbody tr th {\n",
       "        vertical-align: top;\n",
       "    }\n",
       "\n",
       "    .dataframe thead th {\n",
       "        text-align: right;\n",
       "    }\n",
       "</style>\n",
       "<table border=\"1\" class=\"dataframe\">\n",
       "  <thead>\n",
       "    <tr style=\"text-align: right;\">\n",
       "      <th></th>\n",
       "      <th>bedrooms</th>\n",
       "      <th>bathrooms</th>\n",
       "      <th>area</th>\n",
       "      <th>taxvalue</th>\n",
       "      <th>yearbuilt</th>\n",
       "      <th>taxamount</th>\n",
       "      <th>county</th>\n",
       "    </tr>\n",
       "  </thead>\n",
       "  <tbody>\n",
       "    <tr>\n",
       "      <th>7</th>\n",
       "      <td>3</td>\n",
       "      <td>2.0</td>\n",
       "      <td>2077</td>\n",
       "      <td>646760</td>\n",
       "      <td>1926</td>\n",
       "      <td>7924.68</td>\n",
       "      <td>LA</td>\n",
       "    </tr>\n",
       "    <tr>\n",
       "      <th>18</th>\n",
       "      <td>3</td>\n",
       "      <td>1.0</td>\n",
       "      <td>1244</td>\n",
       "      <td>169471</td>\n",
       "      <td>1950</td>\n",
       "      <td>2532.88</td>\n",
       "      <td>LA</td>\n",
       "    </tr>\n",
       "    <tr>\n",
       "      <th>19</th>\n",
       "      <td>3</td>\n",
       "      <td>2.0</td>\n",
       "      <td>1300</td>\n",
       "      <td>233266</td>\n",
       "      <td>1950</td>\n",
       "      <td>3110.99</td>\n",
       "      <td>LA</td>\n",
       "    </tr>\n",
       "    <tr>\n",
       "      <th>20</th>\n",
       "      <td>3</td>\n",
       "      <td>2.0</td>\n",
       "      <td>1222</td>\n",
       "      <td>290492</td>\n",
       "      <td>1951</td>\n",
       "      <td>3870.25</td>\n",
       "      <td>LA</td>\n",
       "    </tr>\n",
       "    <tr>\n",
       "      <th>40</th>\n",
       "      <td>2</td>\n",
       "      <td>1.0</td>\n",
       "      <td>725</td>\n",
       "      <td>37548</td>\n",
       "      <td>1953</td>\n",
       "      <td>576.47</td>\n",
       "      <td>LA</td>\n",
       "    </tr>\n",
       "  </tbody>\n",
       "</table>\n",
       "</div>"
      ],
      "text/plain": [
       "    bedrooms  bathrooms  area  taxvalue  yearbuilt  taxamount county\n",
       "7          3        2.0  2077    646760       1926    7924.68     LA\n",
       "18         3        1.0  1244    169471       1950    2532.88     LA\n",
       "19         3        2.0  1300    233266       1950    3110.99     LA\n",
       "20         3        2.0  1222    290492       1951    3870.25     LA\n",
       "40         2        1.0   725     37548       1953     576.47     LA"
      ]
     },
     "execution_count": 9,
     "metadata": {},
     "output_type": "execute_result"
    }
   ],
   "source": [
    "df.head()"
   ]
  },
  {
   "cell_type": "code",
   "execution_count": 10,
   "id": "2403702c-91af-4569-a062-5c81d0b33a7b",
   "metadata": {
    "tags": []
   },
   "outputs": [
    {
     "data": {
      "text/html": [
       "<div>\n",
       "<style scoped>\n",
       "    .dataframe tbody tr th:only-of-type {\n",
       "        vertical-align: middle;\n",
       "    }\n",
       "\n",
       "    .dataframe tbody tr th {\n",
       "        vertical-align: top;\n",
       "    }\n",
       "\n",
       "    .dataframe thead th {\n",
       "        text-align: right;\n",
       "    }\n",
       "</style>\n",
       "<table border=\"1\" class=\"dataframe\">\n",
       "  <thead>\n",
       "    <tr style=\"text-align: right;\">\n",
       "      <th></th>\n",
       "      <th>bedrooms</th>\n",
       "      <th>bathrooms</th>\n",
       "      <th>area</th>\n",
       "      <th>taxvalue</th>\n",
       "      <th>yearbuilt</th>\n",
       "      <th>taxamount</th>\n",
       "      <th>county</th>\n",
       "    </tr>\n",
       "  </thead>\n",
       "  <tbody>\n",
       "    <tr>\n",
       "      <th>582851</th>\n",
       "      <td>3</td>\n",
       "      <td>2.0</td>\n",
       "      <td>1708</td>\n",
       "      <td>792182</td>\n",
       "      <td>1927</td>\n",
       "      <td>9571.62</td>\n",
       "      <td>LA</td>\n",
       "    </tr>\n",
       "    <tr>\n",
       "      <th>237081</th>\n",
       "      <td>3</td>\n",
       "      <td>2.0</td>\n",
       "      <td>1785</td>\n",
       "      <td>99551</td>\n",
       "      <td>1964</td>\n",
       "      <td>1769.04</td>\n",
       "      <td>Ventura</td>\n",
       "    </tr>\n",
       "    <tr>\n",
       "      <th>1350929</th>\n",
       "      <td>3</td>\n",
       "      <td>1.0</td>\n",
       "      <td>1075</td>\n",
       "      <td>312262</td>\n",
       "      <td>1941</td>\n",
       "      <td>4321.27</td>\n",
       "      <td>LA</td>\n",
       "    </tr>\n",
       "    <tr>\n",
       "      <th>176874</th>\n",
       "      <td>3</td>\n",
       "      <td>2.0</td>\n",
       "      <td>2128</td>\n",
       "      <td>804983</td>\n",
       "      <td>1954</td>\n",
       "      <td>8906.61</td>\n",
       "      <td>LA</td>\n",
       "    </tr>\n",
       "    <tr>\n",
       "      <th>73233</th>\n",
       "      <td>3</td>\n",
       "      <td>3.0</td>\n",
       "      <td>1547</td>\n",
       "      <td>369282</td>\n",
       "      <td>1977</td>\n",
       "      <td>4541.56</td>\n",
       "      <td>Orange</td>\n",
       "    </tr>\n",
       "  </tbody>\n",
       "</table>\n",
       "</div>"
      ],
      "text/plain": [
       "         bedrooms  bathrooms  area  taxvalue  yearbuilt  taxamount   county\n",
       "582851          3        2.0  1708    792182       1927    9571.62       LA\n",
       "237081          3        2.0  1785     99551       1964    1769.04  Ventura\n",
       "1350929         3        1.0  1075    312262       1941    4321.27       LA\n",
       "176874          3        2.0  2128    804983       1954    8906.61       LA\n",
       "73233           3        3.0  1547    369282       1977    4541.56   Orange"
      ]
     },
     "execution_count": 10,
     "metadata": {},
     "output_type": "execute_result"
    }
   ],
   "source": [
    "#split the data\n",
    "train, validate, test = wr.split_zillow_data(df)\n",
    "train.head()"
   ]
  },
  {
   "cell_type": "markdown",
   "id": "e24c6f39-89b2-4ab7-9d27-3074acf234d3",
   "metadata": {},
   "source": [
    "# 2. Fit a linear regression model (ordinary least squares) and compute yhat, predictions of taxvaluedollarcnt using only calculatedfinishedsqft."
   ]
  },
  {
   "cell_type": "code",
   "execution_count": 11,
   "id": "317304c2-26c2-47b1-a389-83e170bec695",
   "metadata": {
    "tags": []
   },
   "outputs": [],
   "source": [
    "from sklearn.linear_model import LinearRegression"
   ]
  },
  {
   "cell_type": "code",
   "execution_count": 13,
   "id": "6781f618-2ee8-4566-a62d-f723a2c08f32",
   "metadata": {
    "tags": []
   },
   "outputs": [],
   "source": [
    "# X -> set of all ind features (just one here)\n",
    "# y -> dependent variable, target.\n",
    "X = train[['area']]\n",
    "y = train['taxvalue']"
   ]
  },
  {
   "cell_type": "code",
   "execution_count": 14,
   "id": "37cbcab3-4e2b-4dd0-bd54-3dd11ced8627",
   "metadata": {
    "tags": []
   },
   "outputs": [],
   "source": [
    "# create the object\n",
    "lm = LinearRegression()\n",
    "# fit the object\n",
    "lm.fit(X, y)\n",
    "# use the object\n",
    "yhat = lm.predict(X)"
   ]
  },
  {
   "cell_type": "code",
   "execution_count": 15,
   "id": "1ea11f83-a104-48ae-83e4-b5531b412c34",
   "metadata": {
    "tags": []
   },
   "outputs": [
    {
     "data": {
      "text/plain": [
       "array([339020.01852097, 350839.79021281, 241852.28500235, 403491.50047646,\n",
       "       314305.95043803, 342090.08909028, 362506.05837618, 336870.96912245,\n",
       "       261040.22606053, 295425.01643679])"
      ]
     },
     "execution_count": 15,
     "metadata": {},
     "output_type": "execute_result"
    }
   ],
   "source": [
    "yhat[:10]"
   ]
  },
  {
   "cell_type": "code",
   "execution_count": 16,
   "id": "45006e8a-659b-4a65-8fcb-7a1928fb834d",
   "metadata": {
    "tags": []
   },
   "outputs": [],
   "source": [
    "# import matplotlib stuff:\n",
    "import matplotlib.pyplot as plt"
   ]
  },
  {
   "cell_type": "markdown",
   "id": "6f206447-a0b0-4540-a76d-c3af0ed2a427",
   "metadata": {},
   "source": [
    "# 3. Plot the residuals for the linear regression model that you made."
   ]
  },
  {
   "cell_type": "code",
   "execution_count": 17,
   "id": "f1de695a-41f6-4dc5-b7f3-be7855977104",
   "metadata": {
    "tags": []
   },
   "outputs": [
    {
     "data": {
      "image/png": "[encoded data removed]",
      "text/plain": [
       "<Figure size 2000x2000 with 1 Axes>"
      ]
     },
     "metadata": {},
     "output_type": "display_data"
    }
   ],
   "source": [
    "# plot residuals the first way\n",
    "plt.figure(figsize=(20,20))\n",
    "plt.scatter(y, yhat)\n",
    "# x=x is y=y here, the cases where the vert axis matches the horiz axis\n",
    "plt.plot(y,y, ls=':')\n",
    "plt.title('Predicted Home Price as Actual Home Price Increases')\n",
    "plt.show()"
   ]
  },
  {
   "cell_type": "markdown",
   "id": "7c493974-8fa9-4253-a83a-889a5cb2c020",
   "metadata": {},
   "source": [
    "# 4. Calculate the sum of squared errors, explained sum of squares, total sum of squares, mean squared error, and root mean squared error for your model."
   ]
  },
  {
   "cell_type": "code",
   "execution_count": 18,
   "id": "68f561f6-4863-4f91-9332-c362ab8c1cf9",
   "metadata": {
    "tags": []
   },
   "outputs": [],
   "source": [
    "from sklearn.metrics import mean_squared_error, r2_score"
   ]
  },
  {
   "cell_type": "code",
   "execution_count": 19,
   "id": "00b8fb7a-4338-480c-ad86-1d1fc0d140b9",
   "metadata": {
    "tags": []
   },
   "outputs": [],
   "source": [
    "mean_baseline = y.mean()\n",
    "med_baseline = y.median()"
   ]
  },
  {
   "cell_type": "code",
   "execution_count": 20,
   "id": "e41d66af-29ef-4e15-b6bf-a7beecba8fb2",
   "metadata": {
    "tags": []
   },
   "outputs": [],
   "source": [
    "y_pred = pd.DataFrame(\n",
    "{\n",
    "    'y_act': y.values,\n",
    "    'yhat': yhat,\n",
    "    'mean_baseline' : mean_baseline,\n",
    "    'med_baseline': med_baseline\n",
    "}, index=train.index)"
   ]
  },
  {
   "cell_type": "code",
   "execution_count": 21,
   "id": "def5df8c-fc97-41ac-a805-f2a42382a4ef",
   "metadata": {
    "tags": []
   },
   "outputs": [],
   "source": [
    "# compute the error on these two baselines:\n",
    "mean_baseline_rmse = mean_squared_error(y_pred.mean_baseline, y) ** (1/2)\n",
    "med_baseline_rmse = mean_squared_error(y_pred.med_baseline, y) ** (1/2)\n"
   ]
  },
  {
   "cell_type": "code",
   "execution_count": 22,
   "id": "b04aaee0-cf90-4fc5-938a-cfe1e88b50e7",
   "metadata": {
    "tags": []
   },
   "outputs": [
    {
     "data": {
      "text/plain": [
       "True"
      ]
     },
     "execution_count": 22,
     "metadata": {},
     "output_type": "execute_result"
    }
   ],
   "source": [
    "mean_baseline_rmse < med_baseline_rmse"
   ]
  },
  {
   "cell_type": "code",
   "execution_count": 24,
   "id": "5a3e7885-b6d0-40a0-b4d9-014aca09f8d7",
   "metadata": {
    "tags": []
   },
   "outputs": [
    {
     "name": "stdout",
     "output_type": "stream",
     "text": [
      "Root mean squared error for the mean value of home price is $200761.446.\n"
     ]
    }
   ],
   "source": [
    "#  mean providees our best baseline,\n",
    "print(f'Root mean squared error for the mean value of home price is ${round(mean_baseline_rmse, 3)}.')"
   ]
  },
  {
   "cell_type": "markdown",
   "id": "337e4be6-7bc7-4aba-9c67-a3ecf8a55af0",
   "metadata": {
    "tags": []
   },
   "source": [
    "# 5. Calculate the sum of squared errors, mean squared error, and root mean squared error for the baseline model (i.e. a model that always predicts the average taxvaluedollarcnt amount) "
   ]
  },
  {
   "cell_type": "code",
   "execution_count": 25,
   "id": "903b2ca9-21f3-4191-b38a-f752d8fcce26",
   "metadata": {
    "tags": []
   },
   "outputs": [],
   "source": [
    "# Squared Errors, \n",
    "# residuals squared\n",
    "squared_errors = (y_pred['y_act'] - y_pred['yhat']) ** 2\n",
    "# Sum of Squared Error, \n",
    "sse = squared_errors.sum()\n",
    "# Mean Squared error, \n",
    "mse = sse / train.shape[0] #alternatively, len(train), y_pred.shape[0]\n",
    "# Root mean Squared Error\n",
    "# square root the mean squared error!\n",
    "rmse = mse**0.5"
   ]
  },
  {
   "cell_type": "code",
   "execution_count": 26,
   "id": "5e3f00c2-8a77-4081-9188-d2488bce293f",
   "metadata": {
    "tags": []
   },
   "outputs": [
    {
     "data": {
      "text/plain": [
       "181962.64057688153"
      ]
     },
     "execution_count": 26,
     "metadata": {},
     "output_type": "execute_result"
    }
   ],
   "source": [
    "rmse"
   ]
  },
  {
   "cell_type": "markdown",
   "id": "a7ed2acd-989b-49d5-ab4b-377e2327c8e0",
   "metadata": {},
   "source": [
    "# 6.Write python code that compares the sum of squared errors for your model against the sum of squared errors for the baseline model and outputs whether or not your model performs better than the baseline model. "
   ]
  },
  {
   "cell_type": "code",
   "execution_count": 28,
   "id": "1afb6f30-d46d-4ae2-9ff3-8f6c0d3b4b90",
   "metadata": {
    "tags": []
   },
   "outputs": [
    {
     "data": {
      "text/plain": [
       "3.306901456250423e+16"
      ]
     },
     "execution_count": 28,
     "metadata": {},
     "output_type": "execute_result"
    }
   ],
   "source": [
    "sse #sse for our linear regression as computed above"
   ]
  },
  {
   "cell_type": "code",
   "execution_count": 29,
   "id": "20b494d9-1b38-4cf6-95b6-2a949c20a42d",
   "metadata": {
    "tags": []
   },
   "outputs": [
    {
     "data": {
      "text/plain": [
       "Index(['y_act', 'yhat', 'mean_baseline', 'med_baseline'], dtype='object')"
      ]
     },
     "execution_count": 29,
     "metadata": {},
     "output_type": "execute_result"
    }
   ],
   "source": [
    "y_pred.columns"
   ]
  },
  {
   "cell_type": "code",
   "execution_count": 30,
   "id": "a29d9fac-b622-4211-b5d3-e4159900cccf",
   "metadata": {
    "tags": []
   },
   "outputs": [],
   "source": [
    "# do that calculation again for our baseline\n",
    "# Squared Errors, \n",
    "# residuals squared\n",
    "squared_errors_bl = (y_pred['y_act'] - y_pred['mean_baseline']) ** 2\n",
    "# Sum of Squared Error, \n",
    "sse_bl = squared_errors_bl.sum()"
   ]
  },
  {
   "cell_type": "code",
   "execution_count": 31,
   "id": "13719dab-4dcc-43d1-ab98-ad1f913dedf6",
   "metadata": {
    "tags": []
   },
   "outputs": [
    {
     "data": {
      "text/plain": [
       "(3.306901456250423e+16, 4.025477688400819e+16)"
      ]
     },
     "execution_count": 31,
     "metadata": {},
     "output_type": "execute_result"
    }
   ],
   "source": [
    "sse, sse_bl"
   ]
  },
  {
   "cell_type": "code",
   "execution_count": 32,
   "id": "0146ec5a-9051-42de-8d37-afaa7b8bd176",
   "metadata": {
    "tags": []
   },
   "outputs": [
    {
     "data": {
      "text/plain": [
       "True"
      ]
     },
     "execution_count": 32,
     "metadata": {},
     "output_type": "execute_result"
    }
   ],
   "source": [
    "sse_bl > sse"
   ]
  },
  {
   "cell_type": "markdown",
   "id": "6b6d8239-7b52-4ed9-98f6-97615f955811",
   "metadata": {},
   "source": [
    "# 7. What is the amount of variance explained in your model?"
   ]
  },
  {
   "cell_type": "code",
   "execution_count": 27,
   "id": "0cd511b4-eed3-4a9c-a159-aa226cac24e8",
   "metadata": {
    "tags": []
   },
   "outputs": [],
   "source": [
    "# ESS = Δ(y_pred, y_mean)\n",
    "ESS = ((y_pred['yhat'] - y_pred['mean_baseline']) ** 2).sum()"
   ]
  },
  {
   "cell_type": "code",
   "execution_count": null,
   "id": "d68cca46-efee-4fd4-91b1-655015ca9ec0",
   "metadata": {},
   "outputs": [],
   "source": []
  }
 ],
 "metadata": {
  "kernelspec": {
   "display_name": "Python 3 (ipykernel)",
   "language": "python",
   "name": "python3"
  },
  "language_info": {
   "codemirror_mode": {
    "name": "ipython",
    "version": 3
   },
   "file_extension": ".py",
   "mimetype": "text/x-python",
   "name": "python",
   "nbconvert_exporter": "python",
   "pygments_lexer": "ipython3",
   "version": "3.11.4"
  }
 },
 "nbformat": 4,
 "nbformat_minor": 5
}
