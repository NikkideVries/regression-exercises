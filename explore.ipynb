{
 "cells": [
  {
   "cell_type": "markdown",
   "id": "9e700ff1-2c31-4050-bde0-af3b275f0700",
   "metadata": {},
   "source": [
    "# Overview:\n",
    "- Your goal is to predict the values of single unit properties using the observations from 2017.\n",
    "- In these exercises, you will run through the stages of exploration as you continue to work toward the above goal. \n",
    "- Use only your train dataset to explore the relationships between independent variables with other independent variables or independent variables with your target variable."
   ]
  },
  {
   "cell_type": "code",
   "execution_count": 1,
   "id": "3f4eaa70-783f-444c-a2ae-997562f6164b",
   "metadata": {
    "tags": []
   },
   "outputs": [],
   "source": [
    "# imports: \n",
    "import warnings\n",
    "warnings.filterwarnings(\"ignore\")\n",
    "\n",
    "import pandas as pd\n",
    "import numpy as np\n",
    "\n",
    "import matplotlib.pyplot as plt\n",
    "import seaborn as sns\n",
    "\n",
    "from sklearn.model_selection import train_test_split\n",
    "from scipy.stats import pearsonr, spearmanr\n",
    "\n",
    "import wrangle as wr"
   ]
  },
  {
   "cell_type": "markdown",
   "id": "1aeffbae-9130-4a2a-bd21-3380c8503ea4",
   "metadata": {},
   "source": [
    "## Aquiure and Prepare the data: "
   ]
  },
  {
   "cell_type": "code",
   "execution_count": 2,
   "id": "5fea4f56-bb90-45ab-9b6c-7e77d43a1a7d",
   "metadata": {
    "tags": []
   },
   "outputs": [
    {
     "data": {
      "text/html": [
       "<div>\n",
       "<style scoped>\n",
       "    .dataframe tbody tr th:only-of-type {\n",
       "        vertical-align: middle;\n",
       "    }\n",
       "\n",
       "    .dataframe tbody tr th {\n",
       "        vertical-align: top;\n",
       "    }\n",
       "\n",
       "    .dataframe thead th {\n",
       "        text-align: right;\n",
       "    }\n",
       "</style>\n",
       "<table border=\"1\" class=\"dataframe\">\n",
       "  <thead>\n",
       "    <tr style=\"text-align: right;\">\n",
       "      <th></th>\n",
       "      <th>bedroomcnt</th>\n",
       "      <th>bathroomcnt</th>\n",
       "      <th>calculatedfinishedsquarefeet</th>\n",
       "      <th>taxvaluedollarcnt</th>\n",
       "      <th>yearbuilt</th>\n",
       "      <th>taxamount</th>\n",
       "      <th>fips</th>\n",
       "    </tr>\n",
       "  </thead>\n",
       "  <tbody>\n",
       "    <tr>\n",
       "      <th>0</th>\n",
       "      <td>0.0</td>\n",
       "      <td>0.0</td>\n",
       "      <td>NaN</td>\n",
       "      <td>27516.0</td>\n",
       "      <td>NaN</td>\n",
       "      <td>NaN</td>\n",
       "      <td>6037.0</td>\n",
       "    </tr>\n",
       "    <tr>\n",
       "      <th>1</th>\n",
       "      <td>0.0</td>\n",
       "      <td>0.0</td>\n",
       "      <td>NaN</td>\n",
       "      <td>10.0</td>\n",
       "      <td>NaN</td>\n",
       "      <td>NaN</td>\n",
       "      <td>6037.0</td>\n",
       "    </tr>\n",
       "    <tr>\n",
       "      <th>2</th>\n",
       "      <td>0.0</td>\n",
       "      <td>0.0</td>\n",
       "      <td>NaN</td>\n",
       "      <td>10.0</td>\n",
       "      <td>NaN</td>\n",
       "      <td>NaN</td>\n",
       "      <td>6037.0</td>\n",
       "    </tr>\n",
       "    <tr>\n",
       "      <th>3</th>\n",
       "      <td>0.0</td>\n",
       "      <td>0.0</td>\n",
       "      <td>NaN</td>\n",
       "      <td>2108.0</td>\n",
       "      <td>NaN</td>\n",
       "      <td>174.21</td>\n",
       "      <td>6037.0</td>\n",
       "    </tr>\n",
       "    <tr>\n",
       "      <th>4</th>\n",
       "      <td>4.0</td>\n",
       "      <td>2.0</td>\n",
       "      <td>3633.0</td>\n",
       "      <td>296425.0</td>\n",
       "      <td>2005.0</td>\n",
       "      <td>6941.39</td>\n",
       "      <td>6037.0</td>\n",
       "    </tr>\n",
       "  </tbody>\n",
       "</table>\n",
       "</div>"
      ],
      "text/plain": [
       "   bedroomcnt  bathroomcnt  calculatedfinishedsquarefeet  taxvaluedollarcnt  \\\n",
       "0         0.0          0.0                           NaN            27516.0   \n",
       "1         0.0          0.0                           NaN               10.0   \n",
       "2         0.0          0.0                           NaN               10.0   \n",
       "3         0.0          0.0                           NaN             2108.0   \n",
       "4         4.0          2.0                        3633.0           296425.0   \n",
       "\n",
       "   yearbuilt  taxamount    fips  \n",
       "0        NaN        NaN  6037.0  \n",
       "1        NaN        NaN  6037.0  \n",
       "2        NaN        NaN  6037.0  \n",
       "3        NaN     174.21  6037.0  \n",
       "4     2005.0    6941.39  6037.0  "
      ]
     },
     "execution_count": 2,
     "metadata": {},
     "output_type": "execute_result"
    }
   ],
   "source": [
    "# get the data: \n",
    "df = wr.create_zillow_data()\n",
    "df.head()"
   ]
  },
  {
   "cell_type": "code",
   "execution_count": 3,
   "id": "d27af094-aa19-4326-acb8-c46b61ee566d",
   "metadata": {
    "tags": []
   },
   "outputs": [
    {
     "data": {
      "text/html": [
       "<div>\n",
       "<style scoped>\n",
       "    .dataframe tbody tr th:only-of-type {\n",
       "        vertical-align: middle;\n",
       "    }\n",
       "\n",
       "    .dataframe tbody tr th {\n",
       "        vertical-align: top;\n",
       "    }\n",
       "\n",
       "    .dataframe thead th {\n",
       "        text-align: right;\n",
       "    }\n",
       "</style>\n",
       "<table border=\"1\" class=\"dataframe\">\n",
       "  <thead>\n",
       "    <tr style=\"text-align: right;\">\n",
       "      <th></th>\n",
       "      <th>bedrooms</th>\n",
       "      <th>bathrooms</th>\n",
       "      <th>area</th>\n",
       "      <th>taxvalue</th>\n",
       "      <th>yearbuilt</th>\n",
       "      <th>taxamount</th>\n",
       "      <th>county</th>\n",
       "    </tr>\n",
       "  </thead>\n",
       "  <tbody>\n",
       "    <tr>\n",
       "      <th>4</th>\n",
       "      <td>4</td>\n",
       "      <td>2.0</td>\n",
       "      <td>3633</td>\n",
       "      <td>296425</td>\n",
       "      <td>2005</td>\n",
       "      <td>6941.39</td>\n",
       "      <td>LA</td>\n",
       "    </tr>\n",
       "    <tr>\n",
       "      <th>6</th>\n",
       "      <td>3</td>\n",
       "      <td>4.0</td>\n",
       "      <td>1620</td>\n",
       "      <td>847770</td>\n",
       "      <td>2011</td>\n",
       "      <td>10244.94</td>\n",
       "      <td>LA</td>\n",
       "    </tr>\n",
       "    <tr>\n",
       "      <th>7</th>\n",
       "      <td>3</td>\n",
       "      <td>2.0</td>\n",
       "      <td>2077</td>\n",
       "      <td>646760</td>\n",
       "      <td>1926</td>\n",
       "      <td>7924.68</td>\n",
       "      <td>LA</td>\n",
       "    </tr>\n",
       "    <tr>\n",
       "      <th>11</th>\n",
       "      <td>0</td>\n",
       "      <td>0.0</td>\n",
       "      <td>1200</td>\n",
       "      <td>5328</td>\n",
       "      <td>1972</td>\n",
       "      <td>91.60</td>\n",
       "      <td>LA</td>\n",
       "    </tr>\n",
       "    <tr>\n",
       "      <th>14</th>\n",
       "      <td>0</td>\n",
       "      <td>0.0</td>\n",
       "      <td>171</td>\n",
       "      <td>6920</td>\n",
       "      <td>1973</td>\n",
       "      <td>255.17</td>\n",
       "      <td>LA</td>\n",
       "    </tr>\n",
       "  </tbody>\n",
       "</table>\n",
       "</div>"
      ],
      "text/plain": [
       "    bedrooms  bathrooms  area  taxvalue  yearbuilt  taxamount county\n",
       "4          4        2.0  3633    296425       2005    6941.39     LA\n",
       "6          3        4.0  1620    847770       2011   10244.94     LA\n",
       "7          3        2.0  2077    646760       1926    7924.68     LA\n",
       "11         0        0.0  1200      5328       1972      91.60     LA\n",
       "14         0        0.0   171      6920       1973     255.17     LA"
      ]
     },
     "execution_count": 3,
     "metadata": {},
     "output_type": "execute_result"
    }
   ],
   "source": [
    "# prep the data:\n",
    "df = wr.prep_zillow(df)\n",
    "df.head()"
   ]
  },
  {
   "cell_type": "code",
   "execution_count": 4,
   "id": "37727d95-03a1-447f-8173-86ce4833709a",
   "metadata": {
    "tags": []
   },
   "outputs": [
    {
     "name": "stdout",
     "output_type": "stream",
     "text": [
      "<class 'pandas.core.frame.DataFrame'>\n",
      "Int64Index: 2140235 entries, 4 to 2152862\n",
      "Data columns (total 7 columns):\n",
      " #   Column     Dtype  \n",
      "---  ------     -----  \n",
      " 0   bedrooms   int64  \n",
      " 1   bathrooms  float64\n",
      " 2   area       int64  \n",
      " 3   taxvalue   int64  \n",
      " 4   yearbuilt  int64  \n",
      " 5   taxamount  float64\n",
      " 6   county     object \n",
      "dtypes: float64(2), int64(4), object(1)\n",
      "memory usage: 130.6+ MB\n"
     ]
    }
   ],
   "source": [
    "df.info()"
   ]
  },
  {
   "cell_type": "code",
   "execution_count": 11,
   "id": "2e066a68-aaf8-44fc-92dd-3494dda033d3",
   "metadata": {
    "tags": []
   },
   "outputs": [
    {
     "data": {
      "text/html": [
       "<div>\n",
       "<style scoped>\n",
       "    .dataframe tbody tr th:only-of-type {\n",
       "        vertical-align: middle;\n",
       "    }\n",
       "\n",
       "    .dataframe tbody tr th {\n",
       "        vertical-align: top;\n",
       "    }\n",
       "\n",
       "    .dataframe thead th {\n",
       "        text-align: right;\n",
       "    }\n",
       "</style>\n",
       "<table border=\"1\" class=\"dataframe\">\n",
       "  <thead>\n",
       "    <tr style=\"text-align: right;\">\n",
       "      <th></th>\n",
       "      <th>bedrooms</th>\n",
       "      <th>bathrooms</th>\n",
       "      <th>area</th>\n",
       "      <th>taxvalue</th>\n",
       "      <th>yearbuilt</th>\n",
       "      <th>taxamount</th>\n",
       "      <th>county</th>\n",
       "    </tr>\n",
       "  </thead>\n",
       "  <tbody>\n",
       "    <tr>\n",
       "      <th>1567873</th>\n",
       "      <td>3</td>\n",
       "      <td>1.0</td>\n",
       "      <td>1248</td>\n",
       "      <td>191578</td>\n",
       "      <td>1950</td>\n",
       "      <td>2712.21</td>\n",
       "      <td>LA</td>\n",
       "    </tr>\n",
       "    <tr>\n",
       "      <th>1218138</th>\n",
       "      <td>2</td>\n",
       "      <td>2.0</td>\n",
       "      <td>1326</td>\n",
       "      <td>1345206</td>\n",
       "      <td>1950</td>\n",
       "      <td>16539.04</td>\n",
       "      <td>LA</td>\n",
       "    </tr>\n",
       "    <tr>\n",
       "      <th>339661</th>\n",
       "      <td>2</td>\n",
       "      <td>1.0</td>\n",
       "      <td>1053</td>\n",
       "      <td>356648</td>\n",
       "      <td>1953</td>\n",
       "      <td>4575.16</td>\n",
       "      <td>LA</td>\n",
       "    </tr>\n",
       "    <tr>\n",
       "      <th>1017133</th>\n",
       "      <td>3</td>\n",
       "      <td>2.0</td>\n",
       "      <td>1256</td>\n",
       "      <td>175069</td>\n",
       "      <td>1946</td>\n",
       "      <td>2635.51</td>\n",
       "      <td>LA</td>\n",
       "    </tr>\n",
       "    <tr>\n",
       "      <th>40250</th>\n",
       "      <td>3</td>\n",
       "      <td>2.0</td>\n",
       "      <td>1640</td>\n",
       "      <td>543000</td>\n",
       "      <td>1957</td>\n",
       "      <td>6344.96</td>\n",
       "      <td>Orange</td>\n",
       "    </tr>\n",
       "  </tbody>\n",
       "</table>\n",
       "</div>"
      ],
      "text/plain": [
       "         bedrooms  bathrooms  area  taxvalue  yearbuilt  taxamount  county\n",
       "1567873         3        1.0  1248    191578       1950    2712.21      LA\n",
       "1218138         2        2.0  1326   1345206       1950   16539.04      LA\n",
       "339661          2        1.0  1053    356648       1953    4575.16      LA\n",
       "1017133         3        2.0  1256    175069       1946    2635.51      LA\n",
       "40250           3        2.0  1640    543000       1957    6344.96  Orange"
      ]
     },
     "execution_count": 11,
     "metadata": {},
     "output_type": "execute_result"
    }
   ],
   "source": [
    "# split the data: \n",
    "train, validate, test = wr.split_zillow_data(df)\n",
    "train.head()"
   ]
  },
  {
   "cell_type": "code",
   "execution_count": 6,
   "id": "b8f386a7-392b-44f8-8232-5bceebe02330",
   "metadata": {
    "tags": []
   },
   "outputs": [],
   "source": [
    "# scale the columns using minmaxscaler\n",
    "from sklearn.preprocessing import MinMaxScaler"
   ]
  },
  {
   "cell_type": "code",
   "execution_count": 7,
   "id": "98d9b150-38fa-4c5c-9dab-1ea09d317e50",
   "metadata": {
    "tags": []
   },
   "outputs": [],
   "source": [
    "to_scale = ['bedrooms', 'bathrooms', 'area', 'yearbuilt', 'taxamount']"
   ]
  },
  {
   "cell_type": "code",
   "execution_count": 10,
   "id": "30a8c83b-693a-4ec4-b282-afff0c62d61a",
   "metadata": {
    "tags": []
   },
   "outputs": [],
   "source": [
    "# create the object: \n",
    "train_scaled = train.copy()\n",
    "scaler = MinMaxScaler()"
   ]
  },
  {
   "cell_type": "code",
   "execution_count": 12,
   "id": "9ac0fb28-90cb-47c8-8101-b1b95fcce667",
   "metadata": {
    "tags": []
   },
   "outputs": [],
   "source": [
    "# fit and transform the object\n",
    "train_scaled[to_scale] = scaler.fit_transform(train[to_scale])"
   ]
  },
  {
   "cell_type": "code",
   "execution_count": 13,
   "id": "d892aa97-577e-413b-b92b-3a533771ba1f",
   "metadata": {
    "tags": []
   },
   "outputs": [
    {
     "data": {
      "text/html": [
       "<div>\n",
       "<style scoped>\n",
       "    .dataframe tbody tr th:only-of-type {\n",
       "        vertical-align: middle;\n",
       "    }\n",
       "\n",
       "    .dataframe tbody tr th {\n",
       "        vertical-align: top;\n",
       "    }\n",
       "\n",
       "    .dataframe thead th {\n",
       "        text-align: right;\n",
       "    }\n",
       "</style>\n",
       "<table border=\"1\" class=\"dataframe\">\n",
       "  <thead>\n",
       "    <tr style=\"text-align: right;\">\n",
       "      <th></th>\n",
       "      <th>bedrooms</th>\n",
       "      <th>bathrooms</th>\n",
       "      <th>area</th>\n",
       "      <th>taxvalue</th>\n",
       "      <th>yearbuilt</th>\n",
       "      <th>taxamount</th>\n",
       "      <th>county</th>\n",
       "    </tr>\n",
       "  </thead>\n",
       "  <tbody>\n",
       "    <tr>\n",
       "      <th>1567873</th>\n",
       "      <td>0.200000</td>\n",
       "      <td>0.03125</td>\n",
       "      <td>0.001309</td>\n",
       "      <td>191578</td>\n",
       "      <td>0.693023</td>\n",
       "      <td>0.002510</td>\n",
       "      <td>LA</td>\n",
       "    </tr>\n",
       "    <tr>\n",
       "      <th>1218138</th>\n",
       "      <td>0.133333</td>\n",
       "      <td>0.06250</td>\n",
       "      <td>0.001391</td>\n",
       "      <td>1345206</td>\n",
       "      <td>0.693023</td>\n",
       "      <td>0.015335</td>\n",
       "      <td>LA</td>\n",
       "    </tr>\n",
       "    <tr>\n",
       "      <th>339661</th>\n",
       "      <td>0.133333</td>\n",
       "      <td>0.03125</td>\n",
       "      <td>0.001104</td>\n",
       "      <td>356648</td>\n",
       "      <td>0.706977</td>\n",
       "      <td>0.004238</td>\n",
       "      <td>LA</td>\n",
       "    </tr>\n",
       "    <tr>\n",
       "      <th>1017133</th>\n",
       "      <td>0.200000</td>\n",
       "      <td>0.06250</td>\n",
       "      <td>0.001317</td>\n",
       "      <td>175069</td>\n",
       "      <td>0.674419</td>\n",
       "      <td>0.002439</td>\n",
       "      <td>LA</td>\n",
       "    </tr>\n",
       "    <tr>\n",
       "      <th>40250</th>\n",
       "      <td>0.200000</td>\n",
       "      <td>0.06250</td>\n",
       "      <td>0.001721</td>\n",
       "      <td>543000</td>\n",
       "      <td>0.725581</td>\n",
       "      <td>0.005879</td>\n",
       "      <td>Orange</td>\n",
       "    </tr>\n",
       "  </tbody>\n",
       "</table>\n",
       "</div>"
      ],
      "text/plain": [
       "         bedrooms  bathrooms      area  taxvalue  yearbuilt  taxamount  county\n",
       "1567873  0.200000    0.03125  0.001309    191578   0.693023   0.002510      LA\n",
       "1218138  0.133333    0.06250  0.001391   1345206   0.693023   0.015335      LA\n",
       "339661   0.133333    0.03125  0.001104    356648   0.706977   0.004238      LA\n",
       "1017133  0.200000    0.06250  0.001317    175069   0.674419   0.002439      LA\n",
       "40250    0.200000    0.06250  0.001721    543000   0.725581   0.005879  Orange"
      ]
     },
     "execution_count": 13,
     "metadata": {},
     "output_type": "execute_result"
    }
   ],
   "source": [
    "# use the object\n",
    "train_scaled.head()"
   ]
  },
  {
   "cell_type": "code",
   "execution_count": 15,
   "id": "f54d8562-1b76-457b-a3d9-44f7a66218c1",
   "metadata": {
    "tags": []
   },
   "outputs": [
    {
     "data": {
      "image/png": "[encoded data removed]",
      "text/plain": [
       "<Figure size 1600x900 with 10 Axes>"
      ]
     },
     "metadata": {},
     "output_type": "display_data"
    }
   ],
   "source": [
    "# look at the visualizations: \n",
    "import explore as ex\n",
    "ex.visualize_scaler(scaler=MinMaxScaler(),\n",
    "                   df = train,\n",
    "                   columns_to_scale = to_scale,\n",
    "                   bins = 30)"
   ]
  },
  {
   "cell_type": "markdown",
   "id": "d234eb51-0860-4c52-92cc-aea3cccd9c74",
   "metadata": {},
   "source": [
    "## Initial Questions: "
   ]
  },
  {
   "cell_type": "markdown",
   "id": "6b885e36-8665-476f-be54-26503ee0c974",
   "metadata": {},
   "source": [
    "1.  Could bedrooms and bathrooms play a part in tax values? Are they stronger influencers apart or togther?\n",
    "2. Does area impact tax value the most?\n",
    "3. Does how old the house matter towards the tax value? I would assume older house, due the condition that they may be in, require much more work and therefore will cost less."
   ]
  },
  {
   "cell_type": "markdown",
   "id": "e508eec5-8687-4cfc-803d-ac8b528d0eee",
   "metadata": {},
   "source": [
    "## Question 1:\n",
    "Write a function named `plot_variable_pairs` that accepts a dataframe as input and plots all of the pairwise relationships along with the regression line for each pair."
   ]
  }
 ],
 "metadata": {
  "kernelspec": {
   "display_name": "Python 3 (ipykernel)",
   "language": "python",
   "name": "python3"
  },
  "language_info": {
   "codemirror_mode": {
    "name": "ipython",
    "version": 3
   },
   "file_extension": ".py",
   "mimetype": "text/x-python",
   "name": "python",
   "nbconvert_exporter": "python",
   "pygments_lexer": "ipython3",
   "version": "3.11.4"
  }
 },
 "nbformat": 4,
 "nbformat_minor": 5
}
