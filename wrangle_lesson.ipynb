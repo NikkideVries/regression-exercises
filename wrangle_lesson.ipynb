{
 "cells": [
  {
   "cell_type": "markdown",
   "id": "a009429e",
   "metadata": {},
   "source": [
    "# Regression Wrangle [Acquire & Prepare]"
   ]
  },
  {
   "cell_type": "markdown",
   "id": "9f8bbab3",
   "metadata": {},
   "source": [
    "<hr style=\"border:2px solid gray\">"
   ]
  },
  {
   "cell_type": "markdown",
   "id": "1464288b",
   "metadata": {},
   "source": [
    "<b>What is \"wrangle\"?</b>\n",
    "- This is the step where we acquire and prepare our data in the data science pipeline\n",
    "- Combining these two steps together are oftening referred to as \"wrangling\"\n",
    "\n",
    "<b>Why do we care?</b>\n",
    "- This sets us for success in exploration and modeling! \n",
    "\n",
    "<b>How is regression wrangle different than classification wrangle?</b>\n",
    "- It's <b><u>not</u></b> different! it is the same!\n"
   ]
  },
  {
   "cell_type": "markdown",
   "id": "92fb3640",
   "metadata": {},
   "source": [
    "<hr style=\"border:1px solid black\">"
   ]
  },
  {
   "cell_type": "markdown",
   "id": "6874b6b1",
   "metadata": {},
   "source": [
    "# Example: Pipeline Scenario"
   ]
  },
  {
   "cell_type": "markdown",
   "id": "60f28421",
   "metadata": {},
   "source": [
    "<b>Scenario</b>: I'm a university teacher, and I want to know when to worry about a student's progress. I want to be able to work with any students who are at high risk of failing the class, so that I can try to prevent that from happening. I have the grades of the three exams and the final grade from last semester's class. I'm hoping I can build a prediction model that will be able to use these exams to predict the final grade within 5 points average per student.\n",
    "\n",
    "<b>Goal</b>: We are trying to predict a students final grade based on previous exam scores\n",
    "\n",
    "<b>Target Variable</b>: final grade"
   ]
  },
  {
   "cell_type": "code",
   "execution_count": 2,
   "id": "9b3778c3",
   "metadata": {
    "tags": []
   },
   "outputs": [],
   "source": [
    "# imports\n",
    "import pandas as pd\n",
    "import numpy as np\n",
    "\n",
    "# visualization imports:\n",
    "import matplotlib.pyplot as plt\n",
    "import seaborn as sns"
   ]
  },
  {
   "cell_type": "markdown",
   "id": "e3c295b4",
   "metadata": {},
   "source": [
    "## Acquire\n",
    "Plan--> **Acquire** --> Prepare--> Explore--> Model--> Deliver"
   ]
  },
  {
   "cell_type": "markdown",
   "id": "cab8a5e7",
   "metadata": {},
   "source": [
    "<b>Goals For Acquisition:</b>\n",
    "- get data\n",
    "- cache a local copy\n",
    "- verify it all came in \n",
    "- look at it\n",
    "- understand the data\n",
    "    - understand what each <u>row</u> represents\n",
    "    - understand what each <u>column</u> represents"
   ]
  },
  {
   "cell_type": "code",
   "execution_count": 3,
   "id": "1bf6d10a",
   "metadata": {
    "tags": []
   },
   "outputs": [],
   "source": [
    "#assign the variable(file) to the csv\n",
    "file = \"https://gist.githubusercontent.com/ryanorsinger/\\\n",
    "14c8f919920e111f53c6d2c3a3af7e70/raw/07f6e8004fa171638d6d599cfbf0513f6f60b9e8/student_grades.csv\""
   ]
  },
  {
   "cell_type": "code",
   "execution_count": 4,
   "id": "053c9d3a-c932-41d4-a7bf-01d07192a2bb",
   "metadata": {
    "tags": []
   },
   "outputs": [
    {
     "data": {
      "text/plain": [
       "'https://gist.githubusercontent.com/ryanorsinger/14c8f919920e111f53c6d2c3a3af7e70/raw/07f6e8004fa171638d6d599cfbf0513f6f60b9e8/student_grades.csv'"
      ]
     },
     "execution_count": 4,
     "metadata": {},
     "output_type": "execute_result"
    }
   ],
   "source": [
    "file"
   ]
  },
  {
   "cell_type": "code",
   "execution_count": 16,
   "id": "38a3314f-17f7-4881-841d-5babc07a574a",
   "metadata": {
    "tags": []
   },
   "outputs": [],
   "source": [
    "# file is just a tring that points to a url\n",
    "# we can interact witht that url directly as long as it is valid,\n",
    "# lets check it out\n",
    "df = pd.read_csv(file, index_col = 0)\n",
    "# df.set_index('student_id')"
   ]
  },
  {
   "cell_type": "code",
   "execution_count": 6,
   "id": "db39957f-44f2-4cb8-aa46-67c68f68a53f",
   "metadata": {
    "tags": []
   },
   "outputs": [],
   "source": [
    "# look at the data\n",
    "# df.head()\n",
    "# df.shape()\n",
    "# df.describe()\n",
    "# df.info()\n",
    "# df.shape()"
   ]
  },
  {
   "cell_type": "code",
   "execution_count": 11,
   "id": "3cf608e9-b317-436a-83b3-14a4fcd48777",
   "metadata": {
    "tags": []
   },
   "outputs": [
    {
     "data": {
      "text/plain": [
       "(104, 4)"
      ]
     },
     "execution_count": 11,
     "metadata": {},
     "output_type": "execute_result"
    }
   ],
   "source": [
    "# dimensions\n",
    "df.shape"
   ]
  },
  {
   "cell_type": "code",
   "execution_count": 12,
   "id": "41594bf4-dadd-46c1-a511-a3a14470fe9f",
   "metadata": {
    "tags": []
   },
   "outputs": [
    {
     "data": {
      "text/html": [
       "<div>\n",
       "<style scoped>\n",
       "    .dataframe tbody tr th:only-of-type {\n",
       "        vertical-align: middle;\n",
       "    }\n",
       "\n",
       "    .dataframe tbody tr th {\n",
       "        vertical-align: top;\n",
       "    }\n",
       "\n",
       "    .dataframe thead th {\n",
       "        text-align: right;\n",
       "    }\n",
       "</style>\n",
       "<table border=\"1\" class=\"dataframe\">\n",
       "  <thead>\n",
       "    <tr style=\"text-align: right;\">\n",
       "      <th></th>\n",
       "      <th>exam1</th>\n",
       "      <th>exam2</th>\n",
       "      <th>exam3</th>\n",
       "      <th>final_grade</th>\n",
       "    </tr>\n",
       "    <tr>\n",
       "      <th>student_id</th>\n",
       "      <th></th>\n",
       "      <th></th>\n",
       "      <th></th>\n",
       "      <th></th>\n",
       "    </tr>\n",
       "  </thead>\n",
       "  <tbody>\n",
       "    <tr>\n",
       "      <th>1</th>\n",
       "      <td>100.0</td>\n",
       "      <td>90</td>\n",
       "      <td>95</td>\n",
       "      <td>96</td>\n",
       "    </tr>\n",
       "    <tr>\n",
       "      <th>2</th>\n",
       "      <td>98.0</td>\n",
       "      <td>93</td>\n",
       "      <td>96</td>\n",
       "      <td>95</td>\n",
       "    </tr>\n",
       "    <tr>\n",
       "      <th>3</th>\n",
       "      <td>85.0</td>\n",
       "      <td>83</td>\n",
       "      <td>87</td>\n",
       "      <td>87</td>\n",
       "    </tr>\n",
       "    <tr>\n",
       "      <th>4</th>\n",
       "      <td>83.0</td>\n",
       "      <td>80</td>\n",
       "      <td>86</td>\n",
       "      <td>85</td>\n",
       "    </tr>\n",
       "    <tr>\n",
       "      <th>5</th>\n",
       "      <td>93.0</td>\n",
       "      <td>90</td>\n",
       "      <td>96</td>\n",
       "      <td>97</td>\n",
       "    </tr>\n",
       "  </tbody>\n",
       "</table>\n",
       "</div>"
      ],
      "text/plain": [
       "            exam1  exam2 exam3  final_grade\n",
       "student_id                                 \n",
       "1           100.0     90    95           96\n",
       "2            98.0     93    96           95\n",
       "3            85.0     83    87           87\n",
       "4            83.0     80    86           85\n",
       "5            93.0     90    96           97"
      ]
     },
     "execution_count": 12,
     "metadata": {},
     "output_type": "execute_result"
    }
   ],
   "source": [
    "# head\n",
    "df.head()"
   ]
  },
  {
   "cell_type": "code",
   "execution_count": 17,
   "id": "a3248dcc-1307-4685-9838-52c4aec66bf9",
   "metadata": {
    "tags": []
   },
   "outputs": [
    {
     "name": "stdout",
     "output_type": "stream",
     "text": [
      "<class 'pandas.core.frame.DataFrame'>\n",
      "Int64Index: 104 entries, 1 to 104\n",
      "Data columns (total 4 columns):\n",
      " #   Column       Non-Null Count  Dtype  \n",
      "---  ------       --------------  -----  \n",
      " 0   exam1        103 non-null    float64\n",
      " 1   exam2        104 non-null    int64  \n",
      " 2   exam3        104 non-null    object \n",
      " 3   final_grade  104 non-null    int64  \n",
      "dtypes: float64(1), int64(2), object(1)\n",
      "memory usage: 4.1+ KB\n"
     ]
    }
   ],
   "source": [
    "# lets look at the information\n",
    "df.info()"
   ]
  },
  {
   "cell_type": "markdown",
   "id": "eddfb3d4-e914-4907-bf38-aa34d479c586",
   "metadata": {},
   "source": [
    "### Observations:\n",
    "Based on the data:\n",
    "- Independed observations for analyisis: single row equals a single student\n",
    "- Have a missing value in exam one\n",
    "- Exam 3 is an object instead of being a float or int. Nondesirable data type.\n",
    "- Does Exam 1 need be a float?"
   ]
  },
  {
   "cell_type": "code",
   "execution_count": 18,
   "id": "b185fa9d-50d2-431d-abba-40aebdf88322",
   "metadata": {
    "tags": []
   },
   "outputs": [
    {
     "data": {
      "text/html": [
       "<div>\n",
       "<style scoped>\n",
       "    .dataframe tbody tr th:only-of-type {\n",
       "        vertical-align: middle;\n",
       "    }\n",
       "\n",
       "    .dataframe tbody tr th {\n",
       "        vertical-align: top;\n",
       "    }\n",
       "\n",
       "    .dataframe thead th {\n",
       "        text-align: right;\n",
       "    }\n",
       "</style>\n",
       "<table border=\"1\" class=\"dataframe\">\n",
       "  <thead>\n",
       "    <tr style=\"text-align: right;\">\n",
       "      <th></th>\n",
       "      <th>exam1</th>\n",
       "      <th>exam2</th>\n",
       "      <th>final_grade</th>\n",
       "    </tr>\n",
       "  </thead>\n",
       "  <tbody>\n",
       "    <tr>\n",
       "      <th>count</th>\n",
       "      <td>103.000000</td>\n",
       "      <td>104.000000</td>\n",
       "      <td>104.000000</td>\n",
       "    </tr>\n",
       "    <tr>\n",
       "      <th>mean</th>\n",
       "      <td>78.621359</td>\n",
       "      <td>77.307692</td>\n",
       "      <td>81.692308</td>\n",
       "    </tr>\n",
       "    <tr>\n",
       "      <th>std</th>\n",
       "      <td>14.260955</td>\n",
       "      <td>10.295703</td>\n",
       "      <td>10.918122</td>\n",
       "    </tr>\n",
       "    <tr>\n",
       "      <th>min</th>\n",
       "      <td>57.000000</td>\n",
       "      <td>65.000000</td>\n",
       "      <td>65.000000</td>\n",
       "    </tr>\n",
       "    <tr>\n",
       "      <th>25%</th>\n",
       "      <td>70.000000</td>\n",
       "      <td>70.000000</td>\n",
       "      <td>72.000000</td>\n",
       "    </tr>\n",
       "    <tr>\n",
       "      <th>50%</th>\n",
       "      <td>79.000000</td>\n",
       "      <td>75.000000</td>\n",
       "      <td>81.000000</td>\n",
       "    </tr>\n",
       "    <tr>\n",
       "      <th>75%</th>\n",
       "      <td>92.000000</td>\n",
       "      <td>89.000000</td>\n",
       "      <td>93.000000</td>\n",
       "    </tr>\n",
       "    <tr>\n",
       "      <th>max</th>\n",
       "      <td>100.000000</td>\n",
       "      <td>93.000000</td>\n",
       "      <td>97.000000</td>\n",
       "    </tr>\n",
       "  </tbody>\n",
       "</table>\n",
       "</div>"
      ],
      "text/plain": [
       "            exam1       exam2  final_grade\n",
       "count  103.000000  104.000000   104.000000\n",
       "mean    78.621359   77.307692    81.692308\n",
       "std     14.260955   10.295703    10.918122\n",
       "min     57.000000   65.000000    65.000000\n",
       "25%     70.000000   70.000000    72.000000\n",
       "50%     79.000000   75.000000    81.000000\n",
       "75%     92.000000   89.000000    93.000000\n",
       "max    100.000000   93.000000    97.000000"
      ]
     },
     "execution_count": 18,
     "metadata": {},
     "output_type": "execute_result"
    }
   ],
   "source": [
    "df.describe()"
   ]
  },
  {
   "cell_type": "code",
   "execution_count": 21,
   "id": "c2575655-3009-4af3-b453-8f591137831e",
   "metadata": {
    "tags": []
   },
   "outputs": [
    {
     "data": {
      "text/html": [
       "<div>\n",
       "<style scoped>\n",
       "    .dataframe tbody tr th:only-of-type {\n",
       "        vertical-align: middle;\n",
       "    }\n",
       "\n",
       "    .dataframe tbody tr th {\n",
       "        vertical-align: top;\n",
       "    }\n",
       "\n",
       "    .dataframe thead th {\n",
       "        text-align: right;\n",
       "    }\n",
       "</style>\n",
       "<table border=\"1\" class=\"dataframe\">\n",
       "  <thead>\n",
       "    <tr style=\"text-align: right;\">\n",
       "      <th></th>\n",
       "      <th>exam3</th>\n",
       "    </tr>\n",
       "  </thead>\n",
       "  <tbody>\n",
       "    <tr>\n",
       "      <th>count</th>\n",
       "      <td>104</td>\n",
       "    </tr>\n",
       "    <tr>\n",
       "      <th>unique</th>\n",
       "      <td>11</td>\n",
       "    </tr>\n",
       "    <tr>\n",
       "      <th>top</th>\n",
       "      <td>96</td>\n",
       "    </tr>\n",
       "    <tr>\n",
       "      <th>freq</th>\n",
       "      <td>16</td>\n",
       "    </tr>\n",
       "  </tbody>\n",
       "</table>\n",
       "</div>"
      ],
      "text/plain": [
       "       exam3\n",
       "count    104\n",
       "unique    11\n",
       "top       96\n",
       "freq      16"
      ]
     },
     "execution_count": 21,
     "metadata": {},
     "output_type": "execute_result"
    }
   ],
   "source": [
    "df.select_dtypes('O').describe()"
   ]
  },
  {
   "cell_type": "markdown",
   "id": "f836b6c8-e351-4882-af82-7111d3ae1193",
   "metadata": {},
   "source": [
    "- No real indication why exam 3 is a float"
   ]
  },
  {
   "cell_type": "code",
   "execution_count": 25,
   "id": "6302b48d-6523-4c1b-a135-0c90affb43a9",
   "metadata": {
    "tags": []
   },
   "outputs": [
    {
     "data": {
      "text/plain": [
       "exam1          1\n",
       "exam2          0\n",
       "exam3          0\n",
       "final_grade    0\n",
       "dtype: int64"
      ]
     },
     "execution_count": 25,
     "metadata": {},
     "output_type": "execute_result"
    }
   ],
   "source": [
    "# look at missing value\n",
    "df.isnull().sum()"
   ]
  },
  {
   "cell_type": "code",
   "execution_count": 27,
   "id": "d68f178c-aa2e-4b8b-932f-815ef85299aa",
   "metadata": {
    "tags": []
   },
   "outputs": [
    {
     "data": {
      "text/html": [
       "<div>\n",
       "<style scoped>\n",
       "    .dataframe tbody tr th:only-of-type {\n",
       "        vertical-align: middle;\n",
       "    }\n",
       "\n",
       "    .dataframe tbody tr th {\n",
       "        vertical-align: top;\n",
       "    }\n",
       "\n",
       "    .dataframe thead th {\n",
       "        text-align: right;\n",
       "    }\n",
       "</style>\n",
       "<table border=\"1\" class=\"dataframe\">\n",
       "  <thead>\n",
       "    <tr style=\"text-align: right;\">\n",
       "      <th></th>\n",
       "      <th>exam1</th>\n",
       "      <th>exam2</th>\n",
       "      <th>exam3</th>\n",
       "      <th>final_grade</th>\n",
       "    </tr>\n",
       "    <tr>\n",
       "      <th>student_id</th>\n",
       "      <th></th>\n",
       "      <th></th>\n",
       "      <th></th>\n",
       "      <th></th>\n",
       "    </tr>\n",
       "  </thead>\n",
       "  <tbody>\n",
       "    <tr>\n",
       "      <th>10</th>\n",
       "      <td>NaN</td>\n",
       "      <td>70</td>\n",
       "      <td>79</td>\n",
       "      <td>70</td>\n",
       "    </tr>\n",
       "  </tbody>\n",
       "</table>\n",
       "</div>"
      ],
      "text/plain": [
       "            exam1  exam2 exam3  final_grade\n",
       "student_id                                 \n",
       "10            NaN     70    79           70"
      ]
     },
     "execution_count": 27,
     "metadata": {},
     "output_type": "execute_result"
    }
   ],
   "source": [
    "# find where the exam is\n",
    "df[df.exam1.isnull()]"
   ]
  },
  {
   "cell_type": "markdown",
   "id": "9589cc35-fd9c-4cd8-b729-15a9bcafd292",
   "metadata": {},
   "source": [
    "### Questions: \n",
    "- Why was this exam missing?\n",
    "- How can we take care of it\n",
    "- How do they ways we cant take care of it's impact of our analysis?"
   ]
  },
  {
   "cell_type": "code",
   "execution_count": null,
   "id": "bd4ece1e-db14-4594-9374-590407d97cfa",
   "metadata": {},
   "outputs": [],
   "source": [
    "# investigation:\n"
   ]
  },
  {
   "cell_type": "code",
   "execution_count": 28,
   "id": "f25fd524-c1bc-407a-9ba2-d38f999c4305",
   "metadata": {
    "tags": []
   },
   "outputs": [],
   "source": [
    "df = df.dropna()"
   ]
  },
  {
   "cell_type": "code",
   "execution_count": 29,
   "id": "739f49e4-1593-4890-8897-9da0c6a58919",
   "metadata": {
    "tags": []
   },
   "outputs": [
    {
     "name": "stdout",
     "output_type": "stream",
     "text": [
      "<class 'pandas.core.frame.DataFrame'>\n",
      "Int64Index: 103 entries, 1 to 104\n",
      "Data columns (total 4 columns):\n",
      " #   Column       Non-Null Count  Dtype  \n",
      "---  ------       --------------  -----  \n",
      " 0   exam1        103 non-null    float64\n",
      " 1   exam2        103 non-null    int64  \n",
      " 2   exam3        103 non-null    object \n",
      " 3   final_grade  103 non-null    int64  \n",
      "dtypes: float64(1), int64(2), object(1)\n",
      "memory usage: 4.0+ KB\n"
     ]
    }
   ],
   "source": [
    "df.info()"
   ]
  },
  {
   "cell_type": "code",
   "execution_count": null,
   "id": "1ca3a785-a202-49d2-868e-f5a5882b2ffb",
   "metadata": {},
   "outputs": [],
   "source": [
    "# fix the data type\n",
    "df[~df.exam3.str.isdigit()]"
   ]
  },
  {
   "cell_type": "code",
   "execution_count": 30,
   "id": "1cf5de63-089f-4ac7-a1d1-c278923f6ca6",
   "metadata": {
    "tags": []
   },
   "outputs": [
    {
     "data": {
      "text/plain": [
       "student_id\n",
       "1      95\n",
       "2      96\n",
       "3      87\n",
       "4      86\n",
       "5      96\n",
       "       ..\n",
       "100    78\n",
       "101    79\n",
       "102    70\n",
       "103    75\n",
       "104    78\n",
       "Name: exam3, Length: 103, dtype: object"
      ]
     },
     "execution_count": 30,
     "metadata": {},
     "output_type": "execute_result"
    }
   ],
   "source": [
    "df.exam3.str.replace(' ','0')"
   ]
  },
  {
   "cell_type": "code",
   "execution_count": null,
   "id": "1560e869-f5b4-45bf-b889-cd67d81219d8",
   "metadata": {},
   "outputs": [],
   "source": [
    "df.loc[:, 'exam3']"
   ]
  }
 ],
 "metadata": {
  "kernelspec": {
   "display_name": "Python 3 (ipykernel)",
   "language": "python",
   "name": "python3"
  },
  "language_info": {
   "codemirror_mode": {
    "name": "ipython",
    "version": 3
   },
   "file_extension": ".py",
   "mimetype": "text/x-python",
   "name": "python",
   "nbconvert_exporter": "python",
   "pygments_lexer": "ipython3",
   "version": "3.11.4"
  }
 },
 "nbformat": 4,
 "nbformat_minor": 5
}
