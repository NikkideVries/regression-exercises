{
 "cells": [
  {
   "cell_type": "markdown",
   "id": "591ac51b-9340-4109-a8b2-cbb62387aab6",
   "metadata": {},
   "source": [
    "# Overview:\n",
    "- Select a dataset with a continuous target variable.\n",
    "- Be sure your data is prepared (no missing values, numeric datatypes) and split into samples.\n",
    "- Work through all of the steps outlined in the lesson, from setting the baseline to selected a model and evaluating the final model on your test data."
   ]
  },
  {
   "cell_type": "code",
   "execution_count": 1,
   "id": "ab216b61-d320-4ede-a364-3dd904a2126f",
   "metadata": {
    "tags": []
   },
   "outputs": [],
   "source": [
    "#imports\n",
    "import pandas as pd\n",
    "import numpy as np\n",
    "\n",
    "#data\n",
    "from pydataset import data\n",
    "\n",
    "#vizualization libraries\n",
    "from sklearn.model_selection import train_test_split\n",
    "\n",
    "# sucess metrics from earlier in the week\n",
    "from sklearn.metrics import mean_squared_error\n",
    "from sklearn.metrics import r2_score\n",
    "\n",
    "#scaling imports\n",
    "from sklearn.preprocessing import MinMaxScaler, StandardScaler, RobustScaler, QuantileTransformer\n",
    "import sklearn.preprocessing\n",
    "\n",
    "#personal imports\n",
    "import explore\n",
    "\n",
    "#ignore warnings\n",
    "import warnings\n",
    "warnings.filterwarnings(\"ignore\")"
   ]
  },
  {
   "cell_type": "markdown",
   "id": "8148d022-5630-4abb-8d02-b8fca7704372",
   "metadata": {},
   "source": [
    "## Aquire the data:"
   ]
  },
  {
   "cell_type": "code",
   "execution_count": 2,
   "id": "19f3cd54-7174-4ab1-90bb-70e038380a31",
   "metadata": {
    "tags": []
   },
   "outputs": [
    {
     "data": {
      "text/html": [
       "<div>\n",
       "<style scoped>\n",
       "    .dataframe tbody tr th:only-of-type {\n",
       "        vertical-align: middle;\n",
       "    }\n",
       "\n",
       "    .dataframe tbody tr th {\n",
       "        vertical-align: top;\n",
       "    }\n",
       "\n",
       "    .dataframe thead th {\n",
       "        text-align: right;\n",
       "    }\n",
       "</style>\n",
       "<table border=\"1\" class=\"dataframe\">\n",
       "  <thead>\n",
       "    <tr style=\"text-align: right;\">\n",
       "      <th></th>\n",
       "      <th>Fertility</th>\n",
       "      <th>Agriculture</th>\n",
       "      <th>Examination</th>\n",
       "      <th>Education</th>\n",
       "      <th>Catholic</th>\n",
       "      <th>Infant.Mortality</th>\n",
       "    </tr>\n",
       "  </thead>\n",
       "  <tbody>\n",
       "    <tr>\n",
       "      <th>Courtelary</th>\n",
       "      <td>80.2</td>\n",
       "      <td>17.0</td>\n",
       "      <td>15</td>\n",
       "      <td>12</td>\n",
       "      <td>9.96</td>\n",
       "      <td>22.2</td>\n",
       "    </tr>\n",
       "    <tr>\n",
       "      <th>Delemont</th>\n",
       "      <td>83.1</td>\n",
       "      <td>45.1</td>\n",
       "      <td>6</td>\n",
       "      <td>9</td>\n",
       "      <td>84.84</td>\n",
       "      <td>22.2</td>\n",
       "    </tr>\n",
       "    <tr>\n",
       "      <th>Franches-Mnt</th>\n",
       "      <td>92.5</td>\n",
       "      <td>39.7</td>\n",
       "      <td>5</td>\n",
       "      <td>5</td>\n",
       "      <td>93.40</td>\n",
       "      <td>20.2</td>\n",
       "    </tr>\n",
       "    <tr>\n",
       "      <th>Moutier</th>\n",
       "      <td>85.8</td>\n",
       "      <td>36.5</td>\n",
       "      <td>12</td>\n",
       "      <td>7</td>\n",
       "      <td>33.77</td>\n",
       "      <td>20.3</td>\n",
       "    </tr>\n",
       "    <tr>\n",
       "      <th>Neuveville</th>\n",
       "      <td>76.9</td>\n",
       "      <td>43.5</td>\n",
       "      <td>17</td>\n",
       "      <td>15</td>\n",
       "      <td>5.16</td>\n",
       "      <td>20.6</td>\n",
       "    </tr>\n",
       "  </tbody>\n",
       "</table>\n",
       "</div>"
      ],
      "text/plain": [
       "              Fertility  Agriculture  Examination  Education  Catholic  \\\n",
       "Courtelary         80.2         17.0           15         12      9.96   \n",
       "Delemont           83.1         45.1            6          9     84.84   \n",
       "Franches-Mnt       92.5         39.7            5          5     93.40   \n",
       "Moutier            85.8         36.5           12          7     33.77   \n",
       "Neuveville         76.9         43.5           17         15      5.16   \n",
       "\n",
       "              Infant.Mortality  \n",
       "Courtelary                22.2  \n",
       "Delemont                  22.2  \n",
       "Franches-Mnt              20.2  \n",
       "Moutier                   20.3  \n",
       "Neuveville                20.6  "
      ]
     },
     "execution_count": 2,
     "metadata": {},
     "output_type": "execute_result"
    }
   ],
   "source": [
    "swiss = data('swiss')\n",
    "swiss.head()"
   ]
  },
  {
   "cell_type": "code",
   "execution_count": 3,
   "id": "6bfedecc-f4d6-4f3f-8df1-bf0fb4ad8864",
   "metadata": {
    "tags": []
   },
   "outputs": [
    {
     "name": "stdout",
     "output_type": "stream",
     "text": [
      "<class 'pandas.core.frame.DataFrame'>\n",
      "Index: 47 entries, Courtelary to Rive Gauche\n",
      "Data columns (total 6 columns):\n",
      " #   Column            Non-Null Count  Dtype  \n",
      "---  ------            --------------  -----  \n",
      " 0   Fertility         47 non-null     float64\n",
      " 1   Agriculture       47 non-null     float64\n",
      " 2   Examination       47 non-null     int64  \n",
      " 3   Education         47 non-null     int64  \n",
      " 4   Catholic          47 non-null     float64\n",
      " 5   Infant.Mortality  47 non-null     float64\n",
      "dtypes: float64(4), int64(2)\n",
      "memory usage: 2.6+ KB\n"
     ]
    }
   ],
   "source": [
    "swiss.info()"
   ]
  },
  {
   "cell_type": "markdown",
   "id": "124f81a2-9bf2-46cc-bbc1-8f8037d674d3",
   "metadata": {},
   "source": [
    "## Prepare"
   ]
  },
  {
   "cell_type": "code",
   "execution_count": 4,
   "id": "829b3323-1ebc-4a23-8851-919257a53abb",
   "metadata": {
    "tags": []
   },
   "outputs": [],
   "source": [
    "# want to make all the columns lower case and replace the . with and _\n",
    "swiss.columns = swiss.columns.str.lower().str.replace('.','_')"
   ]
  },
  {
   "cell_type": "code",
   "execution_count": 5,
   "id": "29832e40-da1f-4855-9274-7262c05e6b88",
   "metadata": {
    "tags": []
   },
   "outputs": [
    {
     "data": {
      "text/html": [
       "<div>\n",
       "<style scoped>\n",
       "    .dataframe tbody tr th:only-of-type {\n",
       "        vertical-align: middle;\n",
       "    }\n",
       "\n",
       "    .dataframe tbody tr th {\n",
       "        vertical-align: top;\n",
       "    }\n",
       "\n",
       "    .dataframe thead th {\n",
       "        text-align: right;\n",
       "    }\n",
       "</style>\n",
       "<table border=\"1\" class=\"dataframe\">\n",
       "  <thead>\n",
       "    <tr style=\"text-align: right;\">\n",
       "      <th></th>\n",
       "      <th>fertility</th>\n",
       "      <th>agriculture</th>\n",
       "      <th>examination</th>\n",
       "      <th>education</th>\n",
       "      <th>catholic</th>\n",
       "      <th>infant_mortality</th>\n",
       "    </tr>\n",
       "  </thead>\n",
       "  <tbody>\n",
       "    <tr>\n",
       "      <th>Courtelary</th>\n",
       "      <td>80.2</td>\n",
       "      <td>17.0</td>\n",
       "      <td>15</td>\n",
       "      <td>12</td>\n",
       "      <td>9.96</td>\n",
       "      <td>22.2</td>\n",
       "    </tr>\n",
       "    <tr>\n",
       "      <th>Delemont</th>\n",
       "      <td>83.1</td>\n",
       "      <td>45.1</td>\n",
       "      <td>6</td>\n",
       "      <td>9</td>\n",
       "      <td>84.84</td>\n",
       "      <td>22.2</td>\n",
       "    </tr>\n",
       "    <tr>\n",
       "      <th>Franches-Mnt</th>\n",
       "      <td>92.5</td>\n",
       "      <td>39.7</td>\n",
       "      <td>5</td>\n",
       "      <td>5</td>\n",
       "      <td>93.40</td>\n",
       "      <td>20.2</td>\n",
       "    </tr>\n",
       "    <tr>\n",
       "      <th>Moutier</th>\n",
       "      <td>85.8</td>\n",
       "      <td>36.5</td>\n",
       "      <td>12</td>\n",
       "      <td>7</td>\n",
       "      <td>33.77</td>\n",
       "      <td>20.3</td>\n",
       "    </tr>\n",
       "    <tr>\n",
       "      <th>Neuveville</th>\n",
       "      <td>76.9</td>\n",
       "      <td>43.5</td>\n",
       "      <td>17</td>\n",
       "      <td>15</td>\n",
       "      <td>5.16</td>\n",
       "      <td>20.6</td>\n",
       "    </tr>\n",
       "  </tbody>\n",
       "</table>\n",
       "</div>"
      ],
      "text/plain": [
       "              fertility  agriculture  examination  education  catholic  \\\n",
       "Courtelary         80.2         17.0           15         12      9.96   \n",
       "Delemont           83.1         45.1            6          9     84.84   \n",
       "Franches-Mnt       92.5         39.7            5          5     93.40   \n",
       "Moutier            85.8         36.5           12          7     33.77   \n",
       "Neuveville         76.9         43.5           17         15      5.16   \n",
       "\n",
       "              infant_mortality  \n",
       "Courtelary                22.2  \n",
       "Delemont                  22.2  \n",
       "Franches-Mnt              20.2  \n",
       "Moutier                   20.3  \n",
       "Neuveville                20.6  "
      ]
     },
     "execution_count": 5,
     "metadata": {},
     "output_type": "execute_result"
    }
   ],
   "source": [
    "swiss.head()"
   ]
  },
  {
   "cell_type": "code",
   "execution_count": 6,
   "id": "839576d4-7b15-4543-a7db-8a1160ad3f63",
   "metadata": {
    "tags": []
   },
   "outputs": [],
   "source": [
    "# split the data: \n",
    "def split_data(df, stratify = None, seed = 1234):\n",
    "    '''\n",
    "    This funciton will split the tips data into train, validate and test,\n",
    "    It will split the data into 20% and 80% into test and train\n",
    "    It will split the data into 30% and 70% into validate and train\n",
    "    \n",
    "    '''\n",
    "    \n",
    "    train_validate, test = train_test_split(df, test_size=.2, random_state= seed)\n",
    "    train, validate = train_test_split(train_validate, test_size=.3, random_state= seed)\n",
    "    \n",
    "    return train, validate, test"
   ]
  },
  {
   "cell_type": "code",
   "execution_count": 7,
   "id": "dc598fcf-434c-469f-8bb8-07a7fc0b4d64",
   "metadata": {
    "tags": []
   },
   "outputs": [
    {
     "data": {
      "text/html": [
       "<div>\n",
       "<style scoped>\n",
       "    .dataframe tbody tr th:only-of-type {\n",
       "        vertical-align: middle;\n",
       "    }\n",
       "\n",
       "    .dataframe tbody tr th {\n",
       "        vertical-align: top;\n",
       "    }\n",
       "\n",
       "    .dataframe thead th {\n",
       "        text-align: right;\n",
       "    }\n",
       "</style>\n",
       "<table border=\"1\" class=\"dataframe\">\n",
       "  <thead>\n",
       "    <tr style=\"text-align: right;\">\n",
       "      <th></th>\n",
       "      <th>fertility</th>\n",
       "      <th>agriculture</th>\n",
       "      <th>examination</th>\n",
       "      <th>education</th>\n",
       "      <th>catholic</th>\n",
       "      <th>infant_mortality</th>\n",
       "    </tr>\n",
       "  </thead>\n",
       "  <tbody>\n",
       "    <tr>\n",
       "      <th>Veveyse</th>\n",
       "      <td>87.1</td>\n",
       "      <td>64.5</td>\n",
       "      <td>14</td>\n",
       "      <td>6</td>\n",
       "      <td>98.61</td>\n",
       "      <td>24.5</td>\n",
       "    </tr>\n",
       "    <tr>\n",
       "      <th>Rolle</th>\n",
       "      <td>60.5</td>\n",
       "      <td>60.8</td>\n",
       "      <td>16</td>\n",
       "      <td>10</td>\n",
       "      <td>7.72</td>\n",
       "      <td>16.3</td>\n",
       "    </tr>\n",
       "    <tr>\n",
       "      <th>Nyone</th>\n",
       "      <td>56.6</td>\n",
       "      <td>50.9</td>\n",
       "      <td>22</td>\n",
       "      <td>12</td>\n",
       "      <td>15.14</td>\n",
       "      <td>16.7</td>\n",
       "    </tr>\n",
       "    <tr>\n",
       "      <th>Lausanne</th>\n",
       "      <td>55.7</td>\n",
       "      <td>19.4</td>\n",
       "      <td>26</td>\n",
       "      <td>28</td>\n",
       "      <td>12.11</td>\n",
       "      <td>20.2</td>\n",
       "    </tr>\n",
       "    <tr>\n",
       "      <th>Echallens</th>\n",
       "      <td>68.3</td>\n",
       "      <td>72.6</td>\n",
       "      <td>18</td>\n",
       "      <td>2</td>\n",
       "      <td>24.20</td>\n",
       "      <td>21.2</td>\n",
       "    </tr>\n",
       "  </tbody>\n",
       "</table>\n",
       "</div>"
      ],
      "text/plain": [
       "           fertility  agriculture  examination  education  catholic  \\\n",
       "Veveyse         87.1         64.5           14          6     98.61   \n",
       "Rolle           60.5         60.8           16         10      7.72   \n",
       "Nyone           56.6         50.9           22         12     15.14   \n",
       "Lausanne        55.7         19.4           26         28     12.11   \n",
       "Echallens       68.3         72.6           18          2     24.20   \n",
       "\n",
       "           infant_mortality  \n",
       "Veveyse                24.5  \n",
       "Rolle                  16.3  \n",
       "Nyone                  16.7  \n",
       "Lausanne               20.2  \n",
       "Echallens              21.2  "
      ]
     },
     "execution_count": 7,
     "metadata": {},
     "output_type": "execute_result"
    }
   ],
   "source": [
    "train, validate, test = split_data(swiss)\n",
    "train.head()"
   ]
  },
  {
   "cell_type": "code",
   "execution_count": 8,
   "id": "ffd5b851-03e0-42d6-98ec-f44f32420a9d",
   "metadata": {
    "tags": []
   },
   "outputs": [],
   "source": [
    "# what are we trying to predict? infant_mortality\n",
    "to_scale = ['fertility','agriculture','examination','education']"
   ]
  },
  {
   "cell_type": "code",
   "execution_count": 9,
   "id": "5adff70e-3d88-401c-8482-9209efcf6cb8",
   "metadata": {
    "tags": []
   },
   "outputs": [
    {
     "data": {
      "image/png": "[encoded data removed]",
      "text/plain": [
       "<Figure size 1200x1200 with 8 Axes>"
      ]
     },
     "metadata": {},
     "output_type": "display_data"
    }
   ],
   "source": [
    "# vizualize scale: minmax\n",
    "explore.visualize_scaler_2(MinMaxScaler(), train, columns_to_scale = to_scale, bins = 10)"
   ]
  },
  {
   "cell_type": "code",
   "execution_count": 10,
   "id": "18149cc9-d6b8-4a56-bb9d-97018b82e16a",
   "metadata": {
    "tags": []
   },
   "outputs": [
    {
     "data": {
      "image/png": "[encoded data removed]",
      "text/plain": [
       "<Figure size 1600x900 with 8 Axes>"
      ]
     },
     "metadata": {},
     "output_type": "display_data"
    }
   ],
   "source": [
    "# visualize standard\n",
    "explore.visualize_scaler(scaler=StandardScaler(), \n",
    "                 df=train, \n",
    "                 columns_to_scale=to_scale, \n",
    "                 bins=50)"
   ]
  },
  {
   "cell_type": "code",
   "execution_count": 11,
   "id": "9447cd56-6ba0-488b-8f08-f568bc574a19",
   "metadata": {
    "tags": []
   },
   "outputs": [
    {
     "data": {
      "image/png": "[encoded data removed]",
      "text/plain": [
       "<Figure size 1600x900 with 8 Axes>"
      ]
     },
     "metadata": {},
     "output_type": "display_data"
    }
   ],
   "source": [
    "# call function with robustscaler\n",
    "explore.visualize_scaler(scaler=RobustScaler(), \n",
    "                 df=train, \n",
    "                 columns_to_scale=to_scale, \n",
    "                 bins=50)"
   ]
  },
  {
   "cell_type": "markdown",
   "id": "b092e7a6-7a4c-48f1-b85f-5d888d76d887",
   "metadata": {},
   "source": [
    "scaler to use is the minmax"
   ]
  },
  {
   "cell_type": "code",
   "execution_count": 12,
   "id": "09187800-3d3a-46d3-88b9-28f8aedef51d",
   "metadata": {
    "tags": []
   },
   "outputs": [
    {
     "data": {
      "text/plain": [
       "array([[0.90766551, 0.88655462, 0.25806452, 0.09615385],\n",
       "       [0.44425087, 0.83473389, 0.32258065, 0.17307692],\n",
       "       [0.37630662, 0.69607843, 0.51612903, 0.21153846],\n",
       "       [0.36062718, 0.25490196, 0.64516129, 0.51923077],\n",
       "       [0.58013937, 1.        , 0.38709677, 0.01923077],\n",
       "       [0.53484321, 0.09103641, 0.74193548, 0.19230769],\n",
       "       [0.65679443, 0.21708683, 0.51612903, 0.23076923],\n",
       "       [0.771777  , 0.86694678, 0.22580645, 0.23076923],\n",
       "       [0.6533101 , 0.98039216, 0.19354839, 0.        ],\n",
       "       [0.3902439 , 0.74089636, 0.4516129 , 0.09615385]])"
      ]
     },
     "execution_count": 12,
     "metadata": {},
     "output_type": "execute_result"
    }
   ],
   "source": [
    "# create the object\n",
    "scaler = sklearn.preprocessing.MinMaxScaler()\n",
    "\n",
    "# fit the object: \n",
    "scaler.fit(train[to_scale])\n",
    "\n",
    "#use the object\n",
    "scaled_train = scaler.transform(train[to_scale])\n",
    "scaled_train[:10]"
   ]
  },
  {
   "cell_type": "code",
   "execution_count": 13,
   "id": "fc1d4181-0ad7-4e5d-8050-f425b80683a3",
   "metadata": {
    "tags": []
   },
   "outputs": [
    {
     "data": {
      "text/html": [
       "<div>\n",
       "<style scoped>\n",
       "    .dataframe tbody tr th:only-of-type {\n",
       "        vertical-align: middle;\n",
       "    }\n",
       "\n",
       "    .dataframe tbody tr th {\n",
       "        vertical-align: top;\n",
       "    }\n",
       "\n",
       "    .dataframe thead th {\n",
       "        text-align: right;\n",
       "    }\n",
       "</style>\n",
       "<table border=\"1\" class=\"dataframe\">\n",
       "  <thead>\n",
       "    <tr style=\"text-align: right;\">\n",
       "      <th></th>\n",
       "      <th>fertility</th>\n",
       "      <th>agriculture</th>\n",
       "      <th>examination</th>\n",
       "      <th>education</th>\n",
       "      <th>catholic</th>\n",
       "      <th>infant_mortality</th>\n",
       "      <th>fertility_scaled</th>\n",
       "      <th>agriculture_scaled</th>\n",
       "      <th>examination_scaled</th>\n",
       "      <th>education_scaled</th>\n",
       "    </tr>\n",
       "  </thead>\n",
       "  <tbody>\n",
       "    <tr>\n",
       "      <th>Veveyse</th>\n",
       "      <td>87.1</td>\n",
       "      <td>64.5</td>\n",
       "      <td>14</td>\n",
       "      <td>6</td>\n",
       "      <td>98.61</td>\n",
       "      <td>24.5</td>\n",
       "      <td>0.907666</td>\n",
       "      <td>0.886555</td>\n",
       "      <td>0.258065</td>\n",
       "      <td>0.096154</td>\n",
       "    </tr>\n",
       "    <tr>\n",
       "      <th>Rolle</th>\n",
       "      <td>60.5</td>\n",
       "      <td>60.8</td>\n",
       "      <td>16</td>\n",
       "      <td>10</td>\n",
       "      <td>7.72</td>\n",
       "      <td>16.3</td>\n",
       "      <td>0.444251</td>\n",
       "      <td>0.834734</td>\n",
       "      <td>0.322581</td>\n",
       "      <td>0.173077</td>\n",
       "    </tr>\n",
       "    <tr>\n",
       "      <th>Nyone</th>\n",
       "      <td>56.6</td>\n",
       "      <td>50.9</td>\n",
       "      <td>22</td>\n",
       "      <td>12</td>\n",
       "      <td>15.14</td>\n",
       "      <td>16.7</td>\n",
       "      <td>0.376307</td>\n",
       "      <td>0.696078</td>\n",
       "      <td>0.516129</td>\n",
       "      <td>0.211538</td>\n",
       "    </tr>\n",
       "    <tr>\n",
       "      <th>Lausanne</th>\n",
       "      <td>55.7</td>\n",
       "      <td>19.4</td>\n",
       "      <td>26</td>\n",
       "      <td>28</td>\n",
       "      <td>12.11</td>\n",
       "      <td>20.2</td>\n",
       "      <td>0.360627</td>\n",
       "      <td>0.254902</td>\n",
       "      <td>0.645161</td>\n",
       "      <td>0.519231</td>\n",
       "    </tr>\n",
       "    <tr>\n",
       "      <th>Echallens</th>\n",
       "      <td>68.3</td>\n",
       "      <td>72.6</td>\n",
       "      <td>18</td>\n",
       "      <td>2</td>\n",
       "      <td>24.20</td>\n",
       "      <td>21.2</td>\n",
       "      <td>0.580139</td>\n",
       "      <td>1.000000</td>\n",
       "      <td>0.387097</td>\n",
       "      <td>0.019231</td>\n",
       "    </tr>\n",
       "  </tbody>\n",
       "</table>\n",
       "</div>"
      ],
      "text/plain": [
       "           fertility  agriculture  examination  education  catholic  \\\n",
       "Veveyse         87.1         64.5           14          6     98.61   \n",
       "Rolle           60.5         60.8           16         10      7.72   \n",
       "Nyone           56.6         50.9           22         12     15.14   \n",
       "Lausanne        55.7         19.4           26         28     12.11   \n",
       "Echallens       68.3         72.6           18          2     24.20   \n",
       "\n",
       "           infant_mortality  fertility_scaled  agriculture_scaled  \\\n",
       "Veveyse                24.5          0.907666            0.886555   \n",
       "Rolle                  16.3          0.444251            0.834734   \n",
       "Nyone                  16.7          0.376307            0.696078   \n",
       "Lausanne               20.2          0.360627            0.254902   \n",
       "Echallens              21.2          0.580139            1.000000   \n",
       "\n",
       "           examination_scaled  education_scaled  \n",
       "Veveyse              0.258065          0.096154  \n",
       "Rolle                0.322581          0.173077  \n",
       "Nyone                0.516129          0.211538  \n",
       "Lausanne             0.645161          0.519231  \n",
       "Echallens            0.387097          0.019231  "
      ]
     },
     "execution_count": 13,
     "metadata": {},
     "output_type": "execute_result"
    }
   ],
   "source": [
    "train[['fertility_scaled','agriculture_scaled','examination_scaled','education_scaled']] = scaled_train\n",
    "train.head()"
   ]
  },
  {
   "cell_type": "code",
   "execution_count": 35,
   "id": "7d3419b9-90c0-47b1-882a-771fe93e53e1",
   "metadata": {
    "tags": []
   },
   "outputs": [],
   "source": [
    "train_unscaled = train[['fertility','agriculture','examination','education','catholic', 'infant_mortality']]\n",
    "train_scaled = train[['fertility_scaled','agriculture_scaled','examination_scaled','education_scaled','infant_mortality']]"
   ]
  },
  {
   "cell_type": "markdown",
   "id": "1dd897b5-9bc6-4884-8410-cfe2db74c817",
   "metadata": {},
   "source": [
    "# No Scaled data"
   ]
  },
  {
   "cell_type": "markdown",
   "id": "9c9ffa18-ae36-4f75-a0f5-0da9384f8ab4",
   "metadata": {},
   "source": [
    "### Model : Regression"
   ]
  },
  {
   "cell_type": "code",
   "execution_count": 36,
   "id": "b51a4cfc-ab46-4f21-bc5e-dab93577758e",
   "metadata": {
    "tags": []
   },
   "outputs": [],
   "source": [
    "# split data into x and y\n",
    "X_train = train_unscaled.drop(columns = 'infant_mortality')\n",
    "y_train = train_unscaled['infant_mortality']\n",
    "\n",
    "X_validate = validate.drop(columns = 'infant_mortality')\n",
    "y_validate = validate['infant_mortality']\n",
    "\n",
    "X_test = test.drop(columns = 'infant_mortality')\n",
    "y_test = test['infant_mortality']"
   ]
  },
  {
   "cell_type": "code",
   "execution_count": 37,
   "id": "9275977b-a2b0-4d9c-942f-d67f8fd5fa2d",
   "metadata": {
    "tags": []
   },
   "outputs": [
    {
     "data": {
      "text/plain": [
       "20.208000000000002"
      ]
     },
     "execution_count": 37,
     "metadata": {},
     "output_type": "execute_result"
    }
   ],
   "source": [
    "# create the baseline: \n",
    "baseline = y_train.mean()\n",
    "baseline"
   ]
  },
  {
   "cell_type": "code",
   "execution_count": 38,
   "id": "1b7bb337-3768-4e77-8074-cd280280bf75",
   "metadata": {
    "tags": []
   },
   "outputs": [],
   "source": [
    "#function to evaluate later along the line\n",
    "def evaluate_reg(y, yhat):\n",
    "    '''\n",
    "    based on two series, y_act, y_pred, (y, yhat), we\n",
    "    evaluate and return the root mean squared error\n",
    "    as well as the explained variance for the data.\n",
    "    \n",
    "    returns: rmse (float), rmse (float)\n",
    "    '''\n",
    "    rmse = mean_squared_error(y, yhat, squared=False)\n",
    "    r2 = r2_score(y, yhat)\n",
    "    return rmse, r2"
   ]
  },
  {
   "cell_type": "code",
   "execution_count": 39,
   "id": "5a4ede05-8dee-419c-a88e-8c29ca23771c",
   "metadata": {
    "tags": []
   },
   "outputs": [],
   "source": [
    "# need to make a baseline array that is the same shape as our y varibe:\n",
    "baseline_array = np.repeat(baseline, y_train.shape[0])"
   ]
  },
  {
   "cell_type": "code",
   "execution_count": 40,
   "id": "5dd3bd4c-706b-421d-a8b1-1a9526638817",
   "metadata": {
    "tags": []
   },
   "outputs": [],
   "source": [
    "# now we can use the eval function for our baseline\n",
    "baseline_rmse, baseline_r2 = evaluate_reg(y_train, baseline_array)"
   ]
  },
  {
   "cell_type": "code",
   "execution_count": 41,
   "id": "a72ae33e-16c6-490e-a789-5320a0f68c4a",
   "metadata": {
    "tags": []
   },
   "outputs": [],
   "source": [
    "# create a model that will show model comparisons over the exercises\n",
    "eval_df = pd.DataFrame([{\n",
    "    'model': 'baseline',\n",
    "    'rmse': baseline_rmse,\n",
    "    'r2': baseline_r2\n",
    "}])"
   ]
  },
  {
   "cell_type": "code",
   "execution_count": 42,
   "id": "0bc86f89-ac2c-4c8e-902d-dce0b5db3aab",
   "metadata": {
    "tags": []
   },
   "outputs": [
    {
     "data": {
      "text/html": [
       "<div>\n",
       "<style scoped>\n",
       "    .dataframe tbody tr th:only-of-type {\n",
       "        vertical-align: middle;\n",
       "    }\n",
       "\n",
       "    .dataframe tbody tr th {\n",
       "        vertical-align: top;\n",
       "    }\n",
       "\n",
       "    .dataframe thead th {\n",
       "        text-align: right;\n",
       "    }\n",
       "</style>\n",
       "<table border=\"1\" class=\"dataframe\">\n",
       "  <thead>\n",
       "    <tr style=\"text-align: right;\">\n",
       "      <th></th>\n",
       "      <th>model</th>\n",
       "      <th>rmse</th>\n",
       "      <th>r2</th>\n",
       "    </tr>\n",
       "  </thead>\n",
       "  <tbody>\n",
       "    <tr>\n",
       "      <th>0</th>\n",
       "      <td>baseline</td>\n",
       "      <td>2.945902</td>\n",
       "      <td>0.0</td>\n",
       "    </tr>\n",
       "  </tbody>\n",
       "</table>\n",
       "</div>"
      ],
      "text/plain": [
       "      model      rmse   r2\n",
       "0  baseline  2.945902  0.0"
      ]
     },
     "execution_count": 42,
     "metadata": {},
     "output_type": "execute_result"
    }
   ],
   "source": [
    "eval_df"
   ]
  },
  {
   "cell_type": "markdown",
   "id": "61fb83cb-f287-4c85-ae56-ff79af02cf7e",
   "metadata": {},
   "source": [
    "## OLS (Ordinary Least Squares) Model"
   ]
  },
  {
   "cell_type": "code",
   "execution_count": 43,
   "id": "9e9d640f-9ecf-4d5a-ac87-f2eedf585aa4",
   "metadata": {
    "tags": []
   },
   "outputs": [],
   "source": [
    "#improt:\n",
    "from sklearn.linear_model import LinearRegression"
   ]
  },
  {
   "cell_type": "markdown",
   "id": "0d018b43-8d58-43d2-9a5c-ed4de0b5827f",
   "metadata": {},
   "source": [
    "Only with the best feature (one feature)"
   ]
  },
  {
   "cell_type": "code",
   "execution_count": 44,
   "id": "4b2bed28-4286-408c-abd6-07708c84229c",
   "metadata": {
    "tags": []
   },
   "outputs": [],
   "source": [
    "from sklearn.feature_selection import RFE"
   ]
  },
  {
   "cell_type": "code",
   "execution_count": 45,
   "id": "51a54d86-1d12-460d-9c65-fa352d2a9dd9",
   "metadata": {
    "tags": []
   },
   "outputs": [],
   "source": [
    "# create the model:\n",
    "lr1 = LinearRegression()\n",
    "\n",
    "# use RFE\n",
    "rfe = RFE(lr1, n_features_to_select = 1)\n",
    "\n",
    "#fit the object\n",
    "rfe.fit(X_train, y_train)\n",
    "\n",
    "#transform\n",
    "\n",
    "X_train_rfe = rfe.transform(X_train)\n",
    "\n",
    "X_validate_rfe = rfe.transform(X_validate)"
   ]
  },
  {
   "cell_type": "code",
   "execution_count": 47,
   "id": "2536509e-d598-4289-b342-763c4cb9be49",
   "metadata": {
    "tags": []
   },
   "outputs": [
    {
     "data": {
      "text/plain": [
       "array(['fertility'], dtype=object)"
      ]
     },
     "execution_count": 47,
     "metadata": {},
     "output_type": "execute_result"
    }
   ],
   "source": [
    "# feature that it selected?\n",
    "rfe.get_feature_names_out()"
   ]
  },
  {
   "cell_type": "code",
   "execution_count": 49,
   "id": "75193dee-b339-4c7a-9087-091d081a26ad",
   "metadata": {
    "tags": []
   },
   "outputs": [
    {
     "data": {
      "text/html": [
       "<style>#sk-container-id-2 {color: black;}#sk-container-id-2 pre{padding: 0;}#sk-container-id-2 div.sk-toggleable {background-color: white;}#sk-container-id-2 label.sk-toggleable__label {cursor: pointer;display: block;width: 100%;margin-bottom: 0;padding: 0.3em;box-sizing: border-box;text-align: center;}#sk-container-id-2 label.sk-toggleable__label-arrow:before {content: \"▸\";float: left;margin-right: 0.25em;color: #696969;}#sk-container-id-2 label.sk-toggleable__label-arrow:hover:before {color: black;}#sk-container-id-2 div.sk-estimator:hover label.sk-toggleable__label-arrow:before {color: black;}#sk-container-id-2 div.sk-toggleable__content {max-height: 0;max-width: 0;overflow: hidden;text-align: left;background-color: #f0f8ff;}#sk-container-id-2 div.sk-toggleable__content pre {margin: 0.2em;color: black;border-radius: 0.25em;background-color: #f0f8ff;}#sk-container-id-2 input.sk-toggleable__control:checked~div.sk-toggleable__content {max-height: 200px;max-width: 100%;overflow: auto;}#sk-container-id-2 input.sk-toggleable__control:checked~label.sk-toggleable__label-arrow:before {content: \"▾\";}#sk-container-id-2 div.sk-estimator input.sk-toggleable__control:checked~label.sk-toggleable__label {background-color: #d4ebff;}#sk-container-id-2 div.sk-label input.sk-toggleable__control:checked~label.sk-toggleable__label {background-color: #d4ebff;}#sk-container-id-2 input.sk-hidden--visually {border: 0;clip: rect(1px 1px 1px 1px);clip: rect(1px, 1px, 1px, 1px);height: 1px;margin: -1px;overflow: hidden;padding: 0;position: absolute;width: 1px;}#sk-container-id-2 div.sk-estimator {font-family: monospace;background-color: #f0f8ff;border: 1px dotted black;border-radius: 0.25em;box-sizing: border-box;margin-bottom: 0.5em;}#sk-container-id-2 div.sk-estimator:hover {background-color: #d4ebff;}#sk-container-id-2 div.sk-parallel-item::after {content: \"\";width: 100%;border-bottom: 1px solid gray;flex-grow: 1;}#sk-container-id-2 div.sk-label:hover label.sk-toggleable__label {background-color: #d4ebff;}#sk-container-id-2 div.sk-serial::before {content: \"\";position: absolute;border-left: 1px solid gray;box-sizing: border-box;top: 0;bottom: 0;left: 50%;z-index: 0;}#sk-container-id-2 div.sk-serial {display: flex;flex-direction: column;align-items: center;background-color: white;padding-right: 0.2em;padding-left: 0.2em;position: relative;}#sk-container-id-2 div.sk-item {position: relative;z-index: 1;}#sk-container-id-2 div.sk-parallel {display: flex;align-items: stretch;justify-content: center;background-color: white;position: relative;}#sk-container-id-2 div.sk-item::before, #sk-container-id-2 div.sk-parallel-item::before {content: \"\";position: absolute;border-left: 1px solid gray;box-sizing: border-box;top: 0;bottom: 0;left: 50%;z-index: -1;}#sk-container-id-2 div.sk-parallel-item {display: flex;flex-direction: column;z-index: 1;position: relative;background-color: white;}#sk-container-id-2 div.sk-parallel-item:first-child::after {align-self: flex-end;width: 50%;}#sk-container-id-2 div.sk-parallel-item:last-child::after {align-self: flex-start;width: 50%;}#sk-container-id-2 div.sk-parallel-item:only-child::after {width: 0;}#sk-container-id-2 div.sk-dashed-wrapped {border: 1px dashed gray;margin: 0 0.4em 0.5em 0.4em;box-sizing: border-box;padding-bottom: 0.4em;background-color: white;}#sk-container-id-2 div.sk-label label {font-family: monospace;font-weight: bold;display: inline-block;line-height: 1.2em;}#sk-container-id-2 div.sk-label-container {text-align: center;}#sk-container-id-2 div.sk-container {/* jupyter's `normalize.less` sets `[hidden] { display: none; }` but bootstrap.min.css set `[hidden] { display: none !important; }` so we also need the `!important` here to be able to override the default hidden behavior on the sphinx rendered scikit-learn.org. See: https://github.com/scikit-learn/scikit-learn/issues/21755 */display: inline-block !important;position: relative;}#sk-container-id-2 div.sk-text-repr-fallback {display: none;}</style><div id=\"sk-container-id-2\" class=\"sk-top-container\"><div class=\"sk-text-repr-fallback\"><pre>LinearRegression()</pre><b>In a Jupyter environment, please rerun this cell to show the HTML representation or trust the notebook. <br />On GitHub, the HTML representation is unable to render, please try loading this page with nbviewer.org.</b></div><div class=\"sk-container\" hidden><div class=\"sk-item\"><div class=\"sk-estimator sk-toggleable\"><input class=\"sk-toggleable__control sk-hidden--visually\" id=\"sk-estimator-id-2\" type=\"checkbox\" checked><label for=\"sk-estimator-id-2\" class=\"sk-toggleable__label sk-toggleable__label-arrow\">LinearRegression</label><div class=\"sk-toggleable__content\"><pre>LinearRegression()</pre></div></div></div></div></div>"
      ],
      "text/plain": [
       "LinearRegression()"
      ]
     },
     "execution_count": 49,
     "metadata": {},
     "output_type": "execute_result"
    }
   ],
   "source": [
    "lr1.fit(X_train_rfe, y_train)"
   ]
  },
  {
   "cell_type": "code",
   "execution_count": 50,
   "id": "6b34b755-c4b2-4326-a5e1-2726d1b13e4c",
   "metadata": {
    "tags": []
   },
   "outputs": [],
   "source": [
    "# evaluate:\n",
    "y_pred_validate = lr1.predict(X_validate_rfe)"
   ]
  },
  {
   "cell_type": "code",
   "execution_count": 51,
   "id": "5978b023-e9fb-4f82-b70e-50f09f3f46eb",
   "metadata": {
    "tags": []
   },
   "outputs": [
    {
     "data": {
      "text/plain": [
       "(2.25145811386316, 0.41589451728070237)"
      ]
     },
     "execution_count": 51,
     "metadata": {},
     "output_type": "execute_result"
    }
   ],
   "source": [
    "evaluate_reg(y_train, lr1.predict(X_train_rfe))"
   ]
  },
  {
   "cell_type": "code",
   "execution_count": 52,
   "id": "1bfbda39-d0da-428c-a4be-91c31e984769",
   "metadata": {
    "tags": []
   },
   "outputs": [],
   "source": [
    "# lets add it to the dataframe we have made\n",
    "rmse, r_2 = evaluate_reg(y_train, lr1.predict(X_train_rfe))\n",
    "eval_df = pd.concat([eval_df, pd.DataFrame(\n",
    "[\n",
    "    {\n",
    "        'model': 'ols_rfe_1',\n",
    "        'rmse': rmse,\n",
    "        'r2': r_2\n",
    "    }\n",
    "])], ignore_index=True, axis=0)"
   ]
  },
  {
   "cell_type": "code",
   "execution_count": 53,
   "id": "fcacef7c-366d-4721-951f-eaf06141d5e9",
   "metadata": {
    "tags": []
   },
   "outputs": [
    {
     "data": {
      "text/html": [
       "<div>\n",
       "<style scoped>\n",
       "    .dataframe tbody tr th:only-of-type {\n",
       "        vertical-align: middle;\n",
       "    }\n",
       "\n",
       "    .dataframe tbody tr th {\n",
       "        vertical-align: top;\n",
       "    }\n",
       "\n",
       "    .dataframe thead th {\n",
       "        text-align: right;\n",
       "    }\n",
       "</style>\n",
       "<table border=\"1\" class=\"dataframe\">\n",
       "  <thead>\n",
       "    <tr style=\"text-align: right;\">\n",
       "      <th></th>\n",
       "      <th>model</th>\n",
       "      <th>rmse</th>\n",
       "      <th>r2</th>\n",
       "    </tr>\n",
       "  </thead>\n",
       "  <tbody>\n",
       "    <tr>\n",
       "      <th>0</th>\n",
       "      <td>baseline</td>\n",
       "      <td>2.945902</td>\n",
       "      <td>0.000000</td>\n",
       "    </tr>\n",
       "    <tr>\n",
       "      <th>1</th>\n",
       "      <td>ols_rfe_1</td>\n",
       "      <td>2.251458</td>\n",
       "      <td>0.415895</td>\n",
       "    </tr>\n",
       "  </tbody>\n",
       "</table>\n",
       "</div>"
      ],
      "text/plain": [
       "       model      rmse        r2\n",
       "0   baseline  2.945902  0.000000\n",
       "1  ols_rfe_1  2.251458  0.415895"
      ]
     },
     "execution_count": 53,
     "metadata": {},
     "output_type": "execute_result"
    }
   ],
   "source": [
    "eval_df"
   ]
  },
  {
   "cell_type": "code",
   "execution_count": 54,
   "id": "00333e62-c5f3-4d2f-bf4b-dba750b3984f",
   "metadata": {
    "tags": []
   },
   "outputs": [],
   "source": [
    "# add the validate test to the model for a good compariosn\n",
    "val_rmse, val_r2 = evaluate_reg(y_validate, lr1.predict(X_validate_rfe))\n",
    "val_dict = {\n",
    "    'model': 'ols_rfe_1',\n",
    "    'val_rmse': val_rmse,\n",
    "    'val_r2': val_r2\n",
    "}"
   ]
  },
  {
   "cell_type": "code",
   "execution_count": 55,
   "id": "0186d47e-38d6-42a7-8000-fec8f8eaa2e8",
   "metadata": {
    "tags": []
   },
   "outputs": [],
   "source": [
    "val_scores = [val_dict]"
   ]
  },
  {
   "cell_type": "markdown",
   "id": "cfb8dd5b-3bd4-4529-8b91-68b8c2e6dd0b",
   "metadata": {},
   "source": [
    "With multiple features:"
   ]
  },
  {
   "cell_type": "code",
   "execution_count": 58,
   "id": "56084b40-61ed-4219-a0c9-0e17d7d3bfb9",
   "metadata": {
    "tags": []
   },
   "outputs": [
    {
     "data": {
      "text/html": [
       "<style>#sk-container-id-3 {color: black;}#sk-container-id-3 pre{padding: 0;}#sk-container-id-3 div.sk-toggleable {background-color: white;}#sk-container-id-3 label.sk-toggleable__label {cursor: pointer;display: block;width: 100%;margin-bottom: 0;padding: 0.3em;box-sizing: border-box;text-align: center;}#sk-container-id-3 label.sk-toggleable__label-arrow:before {content: \"▸\";float: left;margin-right: 0.25em;color: #696969;}#sk-container-id-3 label.sk-toggleable__label-arrow:hover:before {color: black;}#sk-container-id-3 div.sk-estimator:hover label.sk-toggleable__label-arrow:before {color: black;}#sk-container-id-3 div.sk-toggleable__content {max-height: 0;max-width: 0;overflow: hidden;text-align: left;background-color: #f0f8ff;}#sk-container-id-3 div.sk-toggleable__content pre {margin: 0.2em;color: black;border-radius: 0.25em;background-color: #f0f8ff;}#sk-container-id-3 input.sk-toggleable__control:checked~div.sk-toggleable__content {max-height: 200px;max-width: 100%;overflow: auto;}#sk-container-id-3 input.sk-toggleable__control:checked~label.sk-toggleable__label-arrow:before {content: \"▾\";}#sk-container-id-3 div.sk-estimator input.sk-toggleable__control:checked~label.sk-toggleable__label {background-color: #d4ebff;}#sk-container-id-3 div.sk-label input.sk-toggleable__control:checked~label.sk-toggleable__label {background-color: #d4ebff;}#sk-container-id-3 input.sk-hidden--visually {border: 0;clip: rect(1px 1px 1px 1px);clip: rect(1px, 1px, 1px, 1px);height: 1px;margin: -1px;overflow: hidden;padding: 0;position: absolute;width: 1px;}#sk-container-id-3 div.sk-estimator {font-family: monospace;background-color: #f0f8ff;border: 1px dotted black;border-radius: 0.25em;box-sizing: border-box;margin-bottom: 0.5em;}#sk-container-id-3 div.sk-estimator:hover {background-color: #d4ebff;}#sk-container-id-3 div.sk-parallel-item::after {content: \"\";width: 100%;border-bottom: 1px solid gray;flex-grow: 1;}#sk-container-id-3 div.sk-label:hover label.sk-toggleable__label {background-color: #d4ebff;}#sk-container-id-3 div.sk-serial::before {content: \"\";position: absolute;border-left: 1px solid gray;box-sizing: border-box;top: 0;bottom: 0;left: 50%;z-index: 0;}#sk-container-id-3 div.sk-serial {display: flex;flex-direction: column;align-items: center;background-color: white;padding-right: 0.2em;padding-left: 0.2em;position: relative;}#sk-container-id-3 div.sk-item {position: relative;z-index: 1;}#sk-container-id-3 div.sk-parallel {display: flex;align-items: stretch;justify-content: center;background-color: white;position: relative;}#sk-container-id-3 div.sk-item::before, #sk-container-id-3 div.sk-parallel-item::before {content: \"\";position: absolute;border-left: 1px solid gray;box-sizing: border-box;top: 0;bottom: 0;left: 50%;z-index: -1;}#sk-container-id-3 div.sk-parallel-item {display: flex;flex-direction: column;z-index: 1;position: relative;background-color: white;}#sk-container-id-3 div.sk-parallel-item:first-child::after {align-self: flex-end;width: 50%;}#sk-container-id-3 div.sk-parallel-item:last-child::after {align-self: flex-start;width: 50%;}#sk-container-id-3 div.sk-parallel-item:only-child::after {width: 0;}#sk-container-id-3 div.sk-dashed-wrapped {border: 1px dashed gray;margin: 0 0.4em 0.5em 0.4em;box-sizing: border-box;padding-bottom: 0.4em;background-color: white;}#sk-container-id-3 div.sk-label label {font-family: monospace;font-weight: bold;display: inline-block;line-height: 1.2em;}#sk-container-id-3 div.sk-label-container {text-align: center;}#sk-container-id-3 div.sk-container {/* jupyter's `normalize.less` sets `[hidden] { display: none; }` but bootstrap.min.css set `[hidden] { display: none !important; }` so we also need the `!important` here to be able to override the default hidden behavior on the sphinx rendered scikit-learn.org. See: https://github.com/scikit-learn/scikit-learn/issues/21755 */display: inline-block !important;position: relative;}#sk-container-id-3 div.sk-text-repr-fallback {display: none;}</style><div id=\"sk-container-id-3\" class=\"sk-top-container\"><div class=\"sk-text-repr-fallback\"><pre>LinearRegression()</pre><b>In a Jupyter environment, please rerun this cell to show the HTML representation or trust the notebook. <br />On GitHub, the HTML representation is unable to render, please try loading this page with nbviewer.org.</b></div><div class=\"sk-container\" hidden><div class=\"sk-item\"><div class=\"sk-estimator sk-toggleable\"><input class=\"sk-toggleable__control sk-hidden--visually\" id=\"sk-estimator-id-3\" type=\"checkbox\" checked><label for=\"sk-estimator-id-3\" class=\"sk-toggleable__label sk-toggleable__label-arrow\">LinearRegression</label><div class=\"sk-toggleable__content\"><pre>LinearRegression()</pre></div></div></div></div></div>"
      ],
      "text/plain": [
       "LinearRegression()"
      ]
     },
     "execution_count": 58,
     "metadata": {},
     "output_type": "execute_result"
    }
   ],
   "source": [
    "# make the model\n",
    "lr2 = LinearRegression()\n",
    "\n",
    "#fit the model\n",
    "lr2.fit(X_train, y_train)\n"
   ]
  },
  {
   "cell_type": "code",
   "execution_count": 60,
   "id": "1d9fedf7-6080-440f-8a26-3098eab6251a",
   "metadata": {
    "tags": []
   },
   "outputs": [],
   "source": [
    "# evaluate: \n",
    "# add the data to the evalue df\n",
    "rmse, r_2 = evaluate_reg(y_train, lr2.predict(X_train))\n",
    "eval_df = pd.concat([eval_df, pd.DataFrame(\n",
    "[\n",
    "    {\n",
    "        'model': 'ols_all_feats',\n",
    "        'rmse': rmse,\n",
    "        'r2': r_2\n",
    "    }\n",
    "])], ignore_index=True, axis=0)"
   ]
  },
  {
   "cell_type": "code",
   "execution_count": 61,
   "id": "95185afd-6062-4511-b84d-a664ab2e6fd2",
   "metadata": {
    "tags": []
   },
   "outputs": [],
   "source": [
    "# add the evaluation of the predictions to validate\n",
    "val_rmse, val_r2 = evaluate_reg(y_validate, lr2.predict(X_validate))\n",
    "val_dict = {\n",
    "    'model': 'ols_all_feats',\n",
    "    'val_rmse': val_rmse,\n",
    "    'val_r2': val_r2\n",
    "}\n",
    "val_scores.append(val_dict)"
   ]
  },
  {
   "cell_type": "code",
   "execution_count": 64,
   "id": "89aee2bd-db20-4b71-8e14-b56a44f30051",
   "metadata": {
    "tags": []
   },
   "outputs": [
    {
     "data": {
      "text/html": [
       "<div>\n",
       "<style scoped>\n",
       "    .dataframe tbody tr th:only-of-type {\n",
       "        vertical-align: middle;\n",
       "    }\n",
       "\n",
       "    .dataframe tbody tr th {\n",
       "        vertical-align: top;\n",
       "    }\n",
       "\n",
       "    .dataframe thead th {\n",
       "        text-align: right;\n",
       "    }\n",
       "</style>\n",
       "<table border=\"1\" class=\"dataframe\">\n",
       "  <thead>\n",
       "    <tr style=\"text-align: right;\">\n",
       "      <th></th>\n",
       "      <th>model</th>\n",
       "      <th>rmse</th>\n",
       "      <th>r2</th>\n",
       "    </tr>\n",
       "  </thead>\n",
       "  <tbody>\n",
       "    <tr>\n",
       "      <th>0</th>\n",
       "      <td>baseline</td>\n",
       "      <td>2.945902</td>\n",
       "      <td>0.000000</td>\n",
       "    </tr>\n",
       "    <tr>\n",
       "      <th>1</th>\n",
       "      <td>ols_rfe_1</td>\n",
       "      <td>2.251458</td>\n",
       "      <td>0.415895</td>\n",
       "    </tr>\n",
       "    <tr>\n",
       "      <th>2</th>\n",
       "      <td>ols_all_feats</td>\n",
       "      <td>1.903967</td>\n",
       "      <td>0.582283</td>\n",
       "    </tr>\n",
       "  </tbody>\n",
       "</table>\n",
       "</div>"
      ],
      "text/plain": [
       "           model      rmse        r2\n",
       "0       baseline  2.945902  0.000000\n",
       "1      ols_rfe_1  2.251458  0.415895\n",
       "2  ols_all_feats  1.903967  0.582283"
      ]
     },
     "execution_count": 64,
     "metadata": {},
     "output_type": "execute_result"
    }
   ],
   "source": [
    "# the model does better with all the features, is it over fit?\n",
    "eval_df"
   ]
  },
  {
   "cell_type": "markdown",
   "id": "f9dfb0fe-8d5f-4feb-8c75-cb9bf4d0b49a",
   "metadata": {},
   "source": [
    "## LassoLars \n",
    "LASSO = Least Absolute Shrinkage and Selection Operator\n",
    "\n",
    "LARS = Least Angle Regression\n",
    "\n",
    "- Performs intrinsic feature selection and noise reduction to avoid overfitting\n",
    "- The most important hyperparameter is alpha\n",
    "- alpha determines the degree of regularization applied to the model\n",
    "- The lowest alpha is zero, and this represents no regularization (identical to OLS)\n",
    "- There is no limit to alpha, but as it rises, it will reach a point where performance no longer changes (often because you've regularized all of your coefficients to zero\n",
    "- Generally speaking, the higher the alpha, the lower your risk for overfitting\n",
    "- alpha = 1.0 is a good place to start\n",
    "- alpha = 0, identical to OLS\n",
    "- alpha = 1"
   ]
  },
  {
   "cell_type": "code",
   "execution_count": 67,
   "id": "ff90e5e8-02d4-49c7-9439-c0498f6b881d",
   "metadata": {
    "tags": []
   },
   "outputs": [],
   "source": [
    "#imports\n",
    "from sklearn.linear_model import LassoLars"
   ]
  },
  {
   "cell_type": "code",
   "execution_count": 68,
   "id": "602c7f54-bbc9-4ab7-a743-01dc679ad416",
   "metadata": {
    "tags": []
   },
   "outputs": [],
   "source": [
    "# fit a version of this that has an alpha of 1:\n",
    "# make it\n",
    "lasso = LassoLars(alpha=1)\n",
    "# fit it:\n",
    "lasso = lasso.fit(X_train, y_train)"
   ]
  },
  {
   "cell_type": "code",
   "execution_count": 69,
   "id": "5922e814-4ba7-4f04-9cae-eefbccbd7710",
   "metadata": {
    "tags": []
   },
   "outputs": [
    {
     "data": {
      "text/plain": [
       "array([ 0.13765452, -0.04061535,  0.        ,  0.        ,  0.02404764])"
      ]
     },
     "execution_count": 69,
     "metadata": {},
     "output_type": "execute_result"
    }
   ],
   "source": [
    "lasso.coef_"
   ]
  },
  {
   "cell_type": "code",
   "execution_count": 72,
   "id": "1a48fe48-e1dd-4b23-8ea7-c71a65cc7621",
   "metadata": {
    "tags": []
   },
   "outputs": [],
   "source": [
    "# evalute it \n",
    "rmse, r_2 = evaluate_reg(y_train, lasso.predict(X_train))\n",
    "eval_df = pd.concat([eval_df, pd.DataFrame(\n",
    "[\n",
    "    {\n",
    "        'model': 'lasso',\n",
    "        'rmse': rmse,\n",
    "        'r2': r_2\n",
    "    }\n",
    "])], ignore_index=True, axis=0)"
   ]
  },
  {
   "cell_type": "code",
   "execution_count": 73,
   "id": "e54ec5ec-1c0a-45ea-8cd3-950053dec701",
   "metadata": {
    "tags": []
   },
   "outputs": [],
   "source": [
    "# evalute validate\n",
    "val_rmse, val_r2 = evaluate_reg(y_validate, lasso.predict(X_validate))\n",
    "val_dict = {\n",
    "    'model': 'lasso',\n",
    "    'val_rmse': val_rmse,\n",
    "    'val_r2': val_r2\n",
    "}"
   ]
  },
  {
   "cell_type": "code",
   "execution_count": 74,
   "id": "29e6fac4-c27b-47e3-854f-2133ea905dd7",
   "metadata": {
    "tags": []
   },
   "outputs": [],
   "source": [
    "val_scores.append(val_dict)"
   ]
  },
  {
   "cell_type": "code",
   "execution_count": 75,
   "id": "40885c36-36cb-45ec-8b84-7af2a31797f3",
   "metadata": {
    "tags": []
   },
   "outputs": [
    {
     "data": {
      "text/html": [
       "<div>\n",
       "<style scoped>\n",
       "    .dataframe tbody tr th:only-of-type {\n",
       "        vertical-align: middle;\n",
       "    }\n",
       "\n",
       "    .dataframe tbody tr th {\n",
       "        vertical-align: top;\n",
       "    }\n",
       "\n",
       "    .dataframe thead th {\n",
       "        text-align: right;\n",
       "    }\n",
       "</style>\n",
       "<table border=\"1\" class=\"dataframe\">\n",
       "  <thead>\n",
       "    <tr style=\"text-align: right;\">\n",
       "      <th></th>\n",
       "      <th>model</th>\n",
       "      <th>rmse</th>\n",
       "      <th>r2</th>\n",
       "    </tr>\n",
       "  </thead>\n",
       "  <tbody>\n",
       "    <tr>\n",
       "      <th>0</th>\n",
       "      <td>baseline</td>\n",
       "      <td>2.945902</td>\n",
       "      <td>0.000000</td>\n",
       "    </tr>\n",
       "    <tr>\n",
       "      <th>1</th>\n",
       "      <td>ols_rfe_1</td>\n",
       "      <td>2.251458</td>\n",
       "      <td>0.415895</td>\n",
       "    </tr>\n",
       "    <tr>\n",
       "      <th>2</th>\n",
       "      <td>ols_all_feats</td>\n",
       "      <td>1.903967</td>\n",
       "      <td>0.582283</td>\n",
       "    </tr>\n",
       "    <tr>\n",
       "      <th>3</th>\n",
       "      <td>lasso</td>\n",
       "      <td>1.924769</td>\n",
       "      <td>0.573105</td>\n",
       "    </tr>\n",
       "  </tbody>\n",
       "</table>\n",
       "</div>"
      ],
      "text/plain": [
       "           model      rmse        r2\n",
       "0       baseline  2.945902  0.000000\n",
       "1      ols_rfe_1  2.251458  0.415895\n",
       "2  ols_all_feats  1.903967  0.582283\n",
       "3          lasso  1.924769  0.573105"
      ]
     },
     "execution_count": 75,
     "metadata": {},
     "output_type": "execute_result"
    }
   ],
   "source": [
    "eval_df"
   ]
  },
  {
   "cell_type": "markdown",
   "id": "3eca6945-077d-4f10-b3a8-b4cc696ed32f",
   "metadata": {},
   "source": [
    "## Polynomial Regression"
   ]
  },
  {
   "cell_type": "code",
   "execution_count": 76,
   "id": "c3985ed3-1670-4111-901d-6dc25c1f7622",
   "metadata": {
    "tags": []
   },
   "outputs": [],
   "source": [
    "#imports \n",
    "from sklearn.preprocessing import PolynomialFeatures"
   ]
  },
  {
   "cell_type": "code",
   "execution_count": 77,
   "id": "764bc4ee-228c-4653-b89e-778184aeb564",
   "metadata": {
    "tags": []
   },
   "outputs": [],
   "source": [
    "# do a preprocessing step with our training data\n",
    "# to transorm our x into combinations of x and x^2, x^3, etc\n",
    "pf = PolynomialFeatures(degree=2)\n",
    "# fit the thing, also use it\n",
    "x_train_sq = pf.fit_transform(X_train)\n",
    "# use this transformer to change our val and test:\n",
    "x_val_sq = pf.transform(X_validate)\n",
    "x_test_sq = pf.transform(X_test)"
   ]
  },
  {
   "cell_type": "code",
   "execution_count": 80,
   "id": "e40b9bcb-e0af-43f2-a9fc-68c52694c126",
   "metadata": {
    "tags": []
   },
   "outputs": [
    {
     "data": {
      "text/html": [
       "<style>#sk-container-id-4 {color: black;}#sk-container-id-4 pre{padding: 0;}#sk-container-id-4 div.sk-toggleable {background-color: white;}#sk-container-id-4 label.sk-toggleable__label {cursor: pointer;display: block;width: 100%;margin-bottom: 0;padding: 0.3em;box-sizing: border-box;text-align: center;}#sk-container-id-4 label.sk-toggleable__label-arrow:before {content: \"▸\";float: left;margin-right: 0.25em;color: #696969;}#sk-container-id-4 label.sk-toggleable__label-arrow:hover:before {color: black;}#sk-container-id-4 div.sk-estimator:hover label.sk-toggleable__label-arrow:before {color: black;}#sk-container-id-4 div.sk-toggleable__content {max-height: 0;max-width: 0;overflow: hidden;text-align: left;background-color: #f0f8ff;}#sk-container-id-4 div.sk-toggleable__content pre {margin: 0.2em;color: black;border-radius: 0.25em;background-color: #f0f8ff;}#sk-container-id-4 input.sk-toggleable__control:checked~div.sk-toggleable__content {max-height: 200px;max-width: 100%;overflow: auto;}#sk-container-id-4 input.sk-toggleable__control:checked~label.sk-toggleable__label-arrow:before {content: \"▾\";}#sk-container-id-4 div.sk-estimator input.sk-toggleable__control:checked~label.sk-toggleable__label {background-color: #d4ebff;}#sk-container-id-4 div.sk-label input.sk-toggleable__control:checked~label.sk-toggleable__label {background-color: #d4ebff;}#sk-container-id-4 input.sk-hidden--visually {border: 0;clip: rect(1px 1px 1px 1px);clip: rect(1px, 1px, 1px, 1px);height: 1px;margin: -1px;overflow: hidden;padding: 0;position: absolute;width: 1px;}#sk-container-id-4 div.sk-estimator {font-family: monospace;background-color: #f0f8ff;border: 1px dotted black;border-radius: 0.25em;box-sizing: border-box;margin-bottom: 0.5em;}#sk-container-id-4 div.sk-estimator:hover {background-color: #d4ebff;}#sk-container-id-4 div.sk-parallel-item::after {content: \"\";width: 100%;border-bottom: 1px solid gray;flex-grow: 1;}#sk-container-id-4 div.sk-label:hover label.sk-toggleable__label {background-color: #d4ebff;}#sk-container-id-4 div.sk-serial::before {content: \"\";position: absolute;border-left: 1px solid gray;box-sizing: border-box;top: 0;bottom: 0;left: 50%;z-index: 0;}#sk-container-id-4 div.sk-serial {display: flex;flex-direction: column;align-items: center;background-color: white;padding-right: 0.2em;padding-left: 0.2em;position: relative;}#sk-container-id-4 div.sk-item {position: relative;z-index: 1;}#sk-container-id-4 div.sk-parallel {display: flex;align-items: stretch;justify-content: center;background-color: white;position: relative;}#sk-container-id-4 div.sk-item::before, #sk-container-id-4 div.sk-parallel-item::before {content: \"\";position: absolute;border-left: 1px solid gray;box-sizing: border-box;top: 0;bottom: 0;left: 50%;z-index: -1;}#sk-container-id-4 div.sk-parallel-item {display: flex;flex-direction: column;z-index: 1;position: relative;background-color: white;}#sk-container-id-4 div.sk-parallel-item:first-child::after {align-self: flex-end;width: 50%;}#sk-container-id-4 div.sk-parallel-item:last-child::after {align-self: flex-start;width: 50%;}#sk-container-id-4 div.sk-parallel-item:only-child::after {width: 0;}#sk-container-id-4 div.sk-dashed-wrapped {border: 1px dashed gray;margin: 0 0.4em 0.5em 0.4em;box-sizing: border-box;padding-bottom: 0.4em;background-color: white;}#sk-container-id-4 div.sk-label label {font-family: monospace;font-weight: bold;display: inline-block;line-height: 1.2em;}#sk-container-id-4 div.sk-label-container {text-align: center;}#sk-container-id-4 div.sk-container {/* jupyter's `normalize.less` sets `[hidden] { display: none; }` but bootstrap.min.css set `[hidden] { display: none !important; }` so we also need the `!important` here to be able to override the default hidden behavior on the sphinx rendered scikit-learn.org. See: https://github.com/scikit-learn/scikit-learn/issues/21755 */display: inline-block !important;position: relative;}#sk-container-id-4 div.sk-text-repr-fallback {display: none;}</style><div id=\"sk-container-id-4\" class=\"sk-top-container\"><div class=\"sk-text-repr-fallback\"><pre>LinearRegression()</pre><b>In a Jupyter environment, please rerun this cell to show the HTML representation or trust the notebook. <br />On GitHub, the HTML representation is unable to render, please try loading this page with nbviewer.org.</b></div><div class=\"sk-container\" hidden><div class=\"sk-item\"><div class=\"sk-estimator sk-toggleable\"><input class=\"sk-toggleable__control sk-hidden--visually\" id=\"sk-estimator-id-4\" type=\"checkbox\" checked><label for=\"sk-estimator-id-4\" class=\"sk-toggleable__label sk-toggleable__label-arrow\">LinearRegression</label><div class=\"sk-toggleable__content\"><pre>LinearRegression()</pre></div></div></div></div></div>"
      ],
      "text/plain": [
       "LinearRegression()"
      ]
     },
     "execution_count": 80,
     "metadata": {},
     "output_type": "execute_result"
    }
   ],
   "source": [
    "# make the model and fit it\n",
    "plyreg = LinearRegression()\n",
    "plyreg.fit(x_train_sq, y_train)"
   ]
  },
  {
   "cell_type": "code",
   "execution_count": 82,
   "id": "c14c2845-e9f2-490b-89d2-58e6941675f5",
   "metadata": {
    "tags": []
   },
   "outputs": [],
   "source": [
    "# evalute \n",
    "rmse, r_2 = evaluate_reg(y_train, plyreg.predict(x_train_sq))\n",
    "eval_df = pd.concat([eval_df, pd.DataFrame(\n",
    "[\n",
    "    {\n",
    "        'model': 'quad_reg',\n",
    "        'rmse': rmse,\n",
    "        'r2': r_2\n",
    "    }\n",
    "])], ignore_index=True, axis=0)\n"
   ]
  },
  {
   "cell_type": "code",
   "execution_count": 83,
   "id": "527e7776-c689-409b-bede-975eb8162e36",
   "metadata": {
    "tags": []
   },
   "outputs": [],
   "source": [
    "# evaluate it on validate\n",
    "val_rmse, val_r2 = evaluate_reg(y_validate, plyreg.predict(x_val_sq))\n",
    "val_dict = {\n",
    "    'model': 'quad_reg',\n",
    "    'val_rmse': val_rmse,\n",
    "    'val_r2': val_r2\n",
    "}"
   ]
  },
  {
   "cell_type": "code",
   "execution_count": 84,
   "id": "6ab2739b-df11-43a9-a3f0-3ad153394da3",
   "metadata": {
    "tags": []
   },
   "outputs": [],
   "source": [
    "val_scores.append(val_dict)"
   ]
  },
  {
   "cell_type": "code",
   "execution_count": 85,
   "id": "cf428a69-c835-447a-b92e-e14bb0fb53ee",
   "metadata": {
    "tags": []
   },
   "outputs": [
    {
     "data": {
      "text/html": [
       "<div>\n",
       "<style scoped>\n",
       "    .dataframe tbody tr th:only-of-type {\n",
       "        vertical-align: middle;\n",
       "    }\n",
       "\n",
       "    .dataframe tbody tr th {\n",
       "        vertical-align: top;\n",
       "    }\n",
       "\n",
       "    .dataframe thead th {\n",
       "        text-align: right;\n",
       "    }\n",
       "</style>\n",
       "<table border=\"1\" class=\"dataframe\">\n",
       "  <thead>\n",
       "    <tr style=\"text-align: right;\">\n",
       "      <th></th>\n",
       "      <th>model</th>\n",
       "      <th>rmse</th>\n",
       "      <th>r2</th>\n",
       "    </tr>\n",
       "  </thead>\n",
       "  <tbody>\n",
       "    <tr>\n",
       "      <th>0</th>\n",
       "      <td>baseline</td>\n",
       "      <td>2.945902</td>\n",
       "      <td>0.000000</td>\n",
       "    </tr>\n",
       "    <tr>\n",
       "      <th>1</th>\n",
       "      <td>ols_rfe_1</td>\n",
       "      <td>2.251458</td>\n",
       "      <td>0.415895</td>\n",
       "    </tr>\n",
       "    <tr>\n",
       "      <th>2</th>\n",
       "      <td>ols_all_feats</td>\n",
       "      <td>1.903967</td>\n",
       "      <td>0.582283</td>\n",
       "    </tr>\n",
       "    <tr>\n",
       "      <th>3</th>\n",
       "      <td>lasso</td>\n",
       "      <td>1.924769</td>\n",
       "      <td>0.573105</td>\n",
       "    </tr>\n",
       "    <tr>\n",
       "      <th>4</th>\n",
       "      <td>quad_reg</td>\n",
       "      <td>0.196286</td>\n",
       "      <td>0.995560</td>\n",
       "    </tr>\n",
       "  </tbody>\n",
       "</table>\n",
       "</div>"
      ],
      "text/plain": [
       "           model      rmse        r2\n",
       "0       baseline  2.945902  0.000000\n",
       "1      ols_rfe_1  2.251458  0.415895\n",
       "2  ols_all_feats  1.903967  0.582283\n",
       "3          lasso  1.924769  0.573105\n",
       "4       quad_reg  0.196286  0.995560"
      ]
     },
     "execution_count": 85,
     "metadata": {},
     "output_type": "execute_result"
    }
   ],
   "source": [
    "eval_df"
   ]
  },
  {
   "cell_type": "code",
   "execution_count": 86,
   "id": "53516e91-1109-4896-ab0a-d5d51f2f1066",
   "metadata": {
    "tags": []
   },
   "outputs": [],
   "source": [
    "# this model is very much overfit"
   ]
  },
  {
   "cell_type": "markdown",
   "id": "5dea74eb-afb0-48c7-9da5-76495fef4ac2",
   "metadata": {},
   "source": [
    "## Generalized Linear Model (GLM):\n",
    "The most flexible regression algorithm, the GLM allows for different distributions, beyond just the Normal Distribution for OLS (and other models based on OLS, like LASSO). We will use the TweedieRegressor method to create a GLM using sklearn.\n",
    "\n",
    "About power:\n",
    "\n",
    "power = 0: Normal Distribution\n",
    "power = 1: Poisson Distribution\n",
    "power = (1,2): Compound Distribution\n",
    "power = 2: Gamma Distribution\n",
    "power = 3: Inverse Gaussian Distribution"
   ]
  },
  {
   "cell_type": "code",
   "execution_count": 87,
   "id": "b7eca842-904f-4299-8862-61fbbc4c58c1",
   "metadata": {
    "tags": []
   },
   "outputs": [],
   "source": [
    "from sklearn.linear_model import TweedieRegressor"
   ]
  },
  {
   "cell_type": "code",
   "execution_count": 88,
   "id": "19074ae8-b67f-430a-8f63-7d0b969faddc",
   "metadata": {
    "tags": []
   },
   "outputs": [
    {
     "data": {
      "text/html": [
       "<style>#sk-container-id-5 {color: black;}#sk-container-id-5 pre{padding: 0;}#sk-container-id-5 div.sk-toggleable {background-color: white;}#sk-container-id-5 label.sk-toggleable__label {cursor: pointer;display: block;width: 100%;margin-bottom: 0;padding: 0.3em;box-sizing: border-box;text-align: center;}#sk-container-id-5 label.sk-toggleable__label-arrow:before {content: \"▸\";float: left;margin-right: 0.25em;color: #696969;}#sk-container-id-5 label.sk-toggleable__label-arrow:hover:before {color: black;}#sk-container-id-5 div.sk-estimator:hover label.sk-toggleable__label-arrow:before {color: black;}#sk-container-id-5 div.sk-toggleable__content {max-height: 0;max-width: 0;overflow: hidden;text-align: left;background-color: #f0f8ff;}#sk-container-id-5 div.sk-toggleable__content pre {margin: 0.2em;color: black;border-radius: 0.25em;background-color: #f0f8ff;}#sk-container-id-5 input.sk-toggleable__control:checked~div.sk-toggleable__content {max-height: 200px;max-width: 100%;overflow: auto;}#sk-container-id-5 input.sk-toggleable__control:checked~label.sk-toggleable__label-arrow:before {content: \"▾\";}#sk-container-id-5 div.sk-estimator input.sk-toggleable__control:checked~label.sk-toggleable__label {background-color: #d4ebff;}#sk-container-id-5 div.sk-label input.sk-toggleable__control:checked~label.sk-toggleable__label {background-color: #d4ebff;}#sk-container-id-5 input.sk-hidden--visually {border: 0;clip: rect(1px 1px 1px 1px);clip: rect(1px, 1px, 1px, 1px);height: 1px;margin: -1px;overflow: hidden;padding: 0;position: absolute;width: 1px;}#sk-container-id-5 div.sk-estimator {font-family: monospace;background-color: #f0f8ff;border: 1px dotted black;border-radius: 0.25em;box-sizing: border-box;margin-bottom: 0.5em;}#sk-container-id-5 div.sk-estimator:hover {background-color: #d4ebff;}#sk-container-id-5 div.sk-parallel-item::after {content: \"\";width: 100%;border-bottom: 1px solid gray;flex-grow: 1;}#sk-container-id-5 div.sk-label:hover label.sk-toggleable__label {background-color: #d4ebff;}#sk-container-id-5 div.sk-serial::before {content: \"\";position: absolute;border-left: 1px solid gray;box-sizing: border-box;top: 0;bottom: 0;left: 50%;z-index: 0;}#sk-container-id-5 div.sk-serial {display: flex;flex-direction: column;align-items: center;background-color: white;padding-right: 0.2em;padding-left: 0.2em;position: relative;}#sk-container-id-5 div.sk-item {position: relative;z-index: 1;}#sk-container-id-5 div.sk-parallel {display: flex;align-items: stretch;justify-content: center;background-color: white;position: relative;}#sk-container-id-5 div.sk-item::before, #sk-container-id-5 div.sk-parallel-item::before {content: \"\";position: absolute;border-left: 1px solid gray;box-sizing: border-box;top: 0;bottom: 0;left: 50%;z-index: -1;}#sk-container-id-5 div.sk-parallel-item {display: flex;flex-direction: column;z-index: 1;position: relative;background-color: white;}#sk-container-id-5 div.sk-parallel-item:first-child::after {align-self: flex-end;width: 50%;}#sk-container-id-5 div.sk-parallel-item:last-child::after {align-self: flex-start;width: 50%;}#sk-container-id-5 div.sk-parallel-item:only-child::after {width: 0;}#sk-container-id-5 div.sk-dashed-wrapped {border: 1px dashed gray;margin: 0 0.4em 0.5em 0.4em;box-sizing: border-box;padding-bottom: 0.4em;background-color: white;}#sk-container-id-5 div.sk-label label {font-family: monospace;font-weight: bold;display: inline-block;line-height: 1.2em;}#sk-container-id-5 div.sk-label-container {text-align: center;}#sk-container-id-5 div.sk-container {/* jupyter's `normalize.less` sets `[hidden] { display: none; }` but bootstrap.min.css set `[hidden] { display: none !important; }` so we also need the `!important` here to be able to override the default hidden behavior on the sphinx rendered scikit-learn.org. See: https://github.com/scikit-learn/scikit-learn/issues/21755 */display: inline-block !important;position: relative;}#sk-container-id-5 div.sk-text-repr-fallback {display: none;}</style><div id=\"sk-container-id-5\" class=\"sk-top-container\"><div class=\"sk-text-repr-fallback\"><pre>TweedieRegressor(power=2)</pre><b>In a Jupyter environment, please rerun this cell to show the HTML representation or trust the notebook. <br />On GitHub, the HTML representation is unable to render, please try loading this page with nbviewer.org.</b></div><div class=\"sk-container\" hidden><div class=\"sk-item\"><div class=\"sk-estimator sk-toggleable\"><input class=\"sk-toggleable__control sk-hidden--visually\" id=\"sk-estimator-id-5\" type=\"checkbox\" checked><label for=\"sk-estimator-id-5\" class=\"sk-toggleable__label sk-toggleable__label-arrow\">TweedieRegressor</label><div class=\"sk-toggleable__content\"><pre>TweedieRegressor(power=2)</pre></div></div></div></div></div>"
      ],
      "text/plain": [
       "TweedieRegressor(power=2)"
      ]
     },
     "execution_count": 88,
     "metadata": {},
     "output_type": "execute_result"
    }
   ],
   "source": [
    "# same process as before!\n",
    "# make the dang thing!\n",
    "gams = TweedieRegressor(power=2)\n",
    "# fit the dang ol thing\n",
    "gams.fit(X_train, y_train)\n",
    "# use it!"
   ]
  },
  {
   "cell_type": "code",
   "execution_count": 89,
   "id": "4e37f678-e9d3-43af-b75a-ff1602989d88",
   "metadata": {
    "tags": []
   },
   "outputs": [],
   "source": [
    "#evaluate\n",
    "rmse, r_2 = evaluate_reg(y_train, gams.predict(X_train))\n",
    "eval_df = pd.concat([eval_df, pd.DataFrame(\n",
    "[\n",
    "    {\n",
    "        'model': 'gamma_ols',\n",
    "        'rmse': rmse,\n",
    "        'r2': r_2\n",
    "    }\n",
    "])], ignore_index=True, axis=0)"
   ]
  },
  {
   "cell_type": "code",
   "execution_count": 90,
   "id": "adfab7db-24ee-429f-afd1-e08d69f88387",
   "metadata": {
    "tags": []
   },
   "outputs": [],
   "source": [
    "val_rmse, val_r2 = evaluate_reg(y_validate, gams.predict(X_validate))\n",
    "val_dict = {\n",
    "    'model': 'gamma_ols',\n",
    "    'val_rmse': val_rmse,\n",
    "    'val_r2': val_r2\n",
    "}"
   ]
  },
  {
   "cell_type": "code",
   "execution_count": 91,
   "id": "e2b175c9-f375-44f6-aec8-568ab0347fd6",
   "metadata": {
    "tags": []
   },
   "outputs": [],
   "source": [
    "val_scores.append(val_dict)"
   ]
  },
  {
   "cell_type": "code",
   "execution_count": 92,
   "id": "67b93c0b-1542-4bfe-ba56-a0a24bbd64ee",
   "metadata": {
    "tags": []
   },
   "outputs": [
    {
     "data": {
      "text/html": [
       "<div>\n",
       "<style scoped>\n",
       "    .dataframe tbody tr th:only-of-type {\n",
       "        vertical-align: middle;\n",
       "    }\n",
       "\n",
       "    .dataframe tbody tr th {\n",
       "        vertical-align: top;\n",
       "    }\n",
       "\n",
       "    .dataframe thead th {\n",
       "        text-align: right;\n",
       "    }\n",
       "</style>\n",
       "<table border=\"1\" class=\"dataframe\">\n",
       "  <thead>\n",
       "    <tr style=\"text-align: right;\">\n",
       "      <th></th>\n",
       "      <th>model</th>\n",
       "      <th>rmse</th>\n",
       "      <th>r2</th>\n",
       "    </tr>\n",
       "  </thead>\n",
       "  <tbody>\n",
       "    <tr>\n",
       "      <th>0</th>\n",
       "      <td>baseline</td>\n",
       "      <td>2.945902</td>\n",
       "      <td>0.000000</td>\n",
       "    </tr>\n",
       "    <tr>\n",
       "      <th>1</th>\n",
       "      <td>ols_rfe_1</td>\n",
       "      <td>2.251458</td>\n",
       "      <td>0.415895</td>\n",
       "    </tr>\n",
       "    <tr>\n",
       "      <th>2</th>\n",
       "      <td>ols_all_feats</td>\n",
       "      <td>1.903967</td>\n",
       "      <td>0.582283</td>\n",
       "    </tr>\n",
       "    <tr>\n",
       "      <th>3</th>\n",
       "      <td>lasso</td>\n",
       "      <td>1.924769</td>\n",
       "      <td>0.573105</td>\n",
       "    </tr>\n",
       "    <tr>\n",
       "      <th>4</th>\n",
       "      <td>quad_reg</td>\n",
       "      <td>0.196286</td>\n",
       "      <td>0.995560</td>\n",
       "    </tr>\n",
       "    <tr>\n",
       "      <th>5</th>\n",
       "      <td>gamma_ols</td>\n",
       "      <td>1.906776</td>\n",
       "      <td>0.581049</td>\n",
       "    </tr>\n",
       "  </tbody>\n",
       "</table>\n",
       "</div>"
      ],
      "text/plain": [
       "           model      rmse        r2\n",
       "0       baseline  2.945902  0.000000\n",
       "1      ols_rfe_1  2.251458  0.415895\n",
       "2  ols_all_feats  1.903967  0.582283\n",
       "3          lasso  1.924769  0.573105\n",
       "4       quad_reg  0.196286  0.995560\n",
       "5      gamma_ols  1.906776  0.581049"
      ]
     },
     "execution_count": 92,
     "metadata": {},
     "output_type": "execute_result"
    }
   ],
   "source": [
    "eval_df"
   ]
  },
  {
   "cell_type": "markdown",
   "id": "dc181f8c-d321-4473-ace2-faad4c57032a",
   "metadata": {},
   "source": [
    "## Best model:"
   ]
  },
  {
   "cell_type": "code",
   "execution_count": 93,
   "id": "9765b459-fdad-4fe6-b7ed-fe7ccc906e1f",
   "metadata": {
    "tags": []
   },
   "outputs": [],
   "source": [
    "val_scores = pd.DataFrame(val_scores)"
   ]
  },
  {
   "cell_type": "code",
   "execution_count": 94,
   "id": "4a43daf5-4954-492c-a279-9a2ace3a17fe",
   "metadata": {
    "tags": []
   },
   "outputs": [
    {
     "data": {
      "text/html": [
       "<div>\n",
       "<style scoped>\n",
       "    .dataframe tbody tr th:only-of-type {\n",
       "        vertical-align: middle;\n",
       "    }\n",
       "\n",
       "    .dataframe tbody tr th {\n",
       "        vertical-align: top;\n",
       "    }\n",
       "\n",
       "    .dataframe thead th {\n",
       "        text-align: right;\n",
       "    }\n",
       "</style>\n",
       "<table border=\"1\" class=\"dataframe\">\n",
       "  <thead>\n",
       "    <tr style=\"text-align: right;\">\n",
       "      <th></th>\n",
       "      <th>model</th>\n",
       "      <th>val_rmse</th>\n",
       "      <th>val_r2</th>\n",
       "    </tr>\n",
       "  </thead>\n",
       "  <tbody>\n",
       "    <tr>\n",
       "      <th>0</th>\n",
       "      <td>ols_rfe_1</td>\n",
       "      <td>3.379852</td>\n",
       "      <td>-1.340994</td>\n",
       "    </tr>\n",
       "    <tr>\n",
       "      <th>1</th>\n",
       "      <td>ols_all_feats</td>\n",
       "      <td>3.855953</td>\n",
       "      <td>-2.046971</td>\n",
       "    </tr>\n",
       "    <tr>\n",
       "      <th>2</th>\n",
       "      <td>lasso</td>\n",
       "      <td>3.653150</td>\n",
       "      <td>-1.734891</td>\n",
       "    </tr>\n",
       "    <tr>\n",
       "      <th>3</th>\n",
       "      <td>quad_reg</td>\n",
       "      <td>5.842099</td>\n",
       "      <td>-5.994276</td>\n",
       "    </tr>\n",
       "    <tr>\n",
       "      <th>4</th>\n",
       "      <td>gamma_ols</td>\n",
       "      <td>3.930084</td>\n",
       "      <td>-2.165253</td>\n",
       "    </tr>\n",
       "  </tbody>\n",
       "</table>\n",
       "</div>"
      ],
      "text/plain": [
       "           model  val_rmse    val_r2\n",
       "0      ols_rfe_1  3.379852 -1.340994\n",
       "1  ols_all_feats  3.855953 -2.046971\n",
       "2          lasso  3.653150 -1.734891\n",
       "3       quad_reg  5.842099 -5.994276\n",
       "4      gamma_ols  3.930084 -2.165253"
      ]
     },
     "execution_count": 94,
     "metadata": {},
     "output_type": "execute_result"
    }
   ],
   "source": [
    "val_scores"
   ]
  },
  {
   "cell_type": "code",
   "execution_count": 99,
   "id": "857614e5-429b-4638-b095-fe6d2ad4e3fa",
   "metadata": {
    "tags": []
   },
   "outputs": [],
   "source": [
    "import matplotlib.pyplot as plt"
   ]
  },
  {
   "cell_type": "code",
   "execution_count": 102,
   "id": "ba23ea13-accb-486a-a461-eef6056bfc31",
   "metadata": {
    "tags": []
   },
   "outputs": [
    {
     "data": {
      "image/png": "[encoded data removed]",
      "text/plain": [
       "<Figure size 640x480 with 1 Axes>"
      ]
     },
     "metadata": {},
     "output_type": "display_data"
    }
   ],
   "source": [
    "\n",
    "plt.scatter(y_train, y_train - lr1.predict(X_train_rfe))\n",
    "plt.title('Residuals vs Actuals for Model based on Fertility')\n",
    "plt.axhline(0, ls=':', c='r', alpha=0.4)\n",
    "plt.xlabel('Fertility')\n",
    "plt.ylabel('Residuals in Fertility')\n",
    "plt.show()"
   ]
  },
  {
   "cell_type": "code",
   "execution_count": 105,
   "id": "4e224614-7cb9-4ee6-978d-dbba17814554",
   "metadata": {
    "tags": []
   },
   "outputs": [
    {
     "data": {
      "image/png": "[encoded data removed]",
      "text/plain": [
       "<Figure size 640x480 with 1 Axes>"
      ]
     },
     "metadata": {},
     "output_type": "display_data"
    }
   ],
   "source": [
    "plt.scatter(y_train, y_train - lr1.predict(X_train_rfe), label='rfe')\n",
    "plt.scatter(y_train, y_train - lr2.predict(X_train), label='ols')\n",
    "plt.scatter(y_train, y_train - plyreg.predict(x_train_sq), label='quad')\n",
    "plt.scatter(y_train, y_train - gams.predict(X_train), label='gamma_ols')\n",
    "plt.title('Residuals vs Actuals for Everything')\n",
    "plt.axhline(0, ls=':', c='r', alpha=0.4)\n",
    "plt.xlabel('Infant_mortality')\n",
    "plt.ylabel('Residuals in Infant mortality')\n",
    "plt.legend()\n",
    "plt.show()"
   ]
  },
  {
   "cell_type": "code",
   "execution_count": 107,
   "id": "44a1a2e6-0ca0-4e6f-8e5a-ae0cdf90ed43",
   "metadata": {
    "tags": []
   },
   "outputs": [
    {
     "data": {
      "text/plain": [
       "Text(0.5, 1.0, 'Distributions of Predicted Values vs Real Target')"
      ]
     },
     "execution_count": 107,
     "metadata": {},
     "output_type": "execute_result"
    },
    {
     "data": {
      "image/png": "[encoded data removed]",
      "text/plain": [
       "<Figure size 2000x1500 with 1 Axes>"
      ]
     },
     "metadata": {},
     "output_type": "display_data"
    }
   ],
   "source": [
    "\n",
    "plt.figure(figsize=(20,15))\n",
    "plt.hist(lr1.predict(X_train_rfe), alpha=0.5, label='rfe')\n",
    "# plt.hist(lr2.predict(X), alpha=0.5, label='ols')\n",
    "plt.hist(plyreg.predict(x_train_sq), alpha=0.5, label='quad')\n",
    "# plt.hist(gams.predict(X), alpha=0.5, label='gamma_ols')\n",
    "plt.hist(y_train, alpha=0.2)\n",
    "plt.legend()\n",
    "plt.title('Distributions of Predicted Values vs Real Target')"
   ]
  },
  {
   "cell_type": "code",
   "execution_count": null,
   "id": "f19daa5e-d262-45a2-801c-feae5092da30",
   "metadata": {},
   "outputs": [],
   "source": []
  }
 ],
 "metadata": {
  "kernelspec": {
   "display_name": "Python 3 (ipykernel)",
   "language": "python",
   "name": "python3"
  },
  "language_info": {
   "codemirror_mode": {
    "name": "ipython",
    "version": 3
   },
   "file_extension": ".py",
   "mimetype": "text/x-python",
   "name": "python",
   "nbconvert_exporter": "python",
   "pygments_lexer": "ipython3",
   "version": "3.11.4"
  }
 },
 "nbformat": 4,
 "nbformat_minor": 5
}
